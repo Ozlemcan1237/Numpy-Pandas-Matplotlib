{
 "cells": [
  {
   "cell_type": "markdown",
   "id": "bb5fd8fe",
   "metadata": {},
   "source": [
    "1 .Given a string of odd length greater than 5, return a new string made of the middle three characters of a given String:\n",
    "Example:\n",
    "\n",
    "\"Murat\" >>> \"ura\"\n",
    "\"Techpro\" >>> \"chp\" "
   ]
  },
  {
   "cell_type": "code",
   "execution_count": 1,
   "id": "200330a8",
   "metadata": {},
   "outputs": [
    {
     "name": "stdout",
     "output_type": "stream",
     "text": [
      "zle\n"
     ]
    }
   ],
   "source": [
    "string = 'ozlem'\n",
    "lenght = len(string)\n",
    "lenght = lenght//2 -1\n",
    "print(string[lenght:lenght+3])"
   ]
  },
  {
   "cell_type": "markdown",
   "id": "d4504fd6",
   "metadata": {},
   "source": [
    "2 - Write a Python program to remove all elements from a given list present in another list. Go to the editor\n",
    "Original lists:\n",
    "list1: [1, 2, 3, 4, 5, 6, 7, 8, 9, 10]\n",
    "list2: [2, 4, 6, 8]\n",
    "Remove all elements from 'list1' present in 'list2:\n",
    "[1, 3, 5, 7, 9, 10]"
   ]
  },
  {
   "cell_type": "code",
   "execution_count": 6,
   "metadata": {},
   "outputs": [
    {
     "name": "stdout",
     "output_type": "stream",
     "text": [
      "Original lists:\n",
      "list1: [1, 2, 3, 4, 5, 6, 7, 8, 9, 10]\n",
      "list2: [2, 4, 6, 8]\n",
      "\n",
      "Remove all elements from 'list1' present in 'list2:\n",
      "[1, 3, 5, 7, 9, 10]\n"
     ]
    }
   ],
   "source": [
    "def inner_list(list1, list2):\n",
    "    result = list(filter(lambda x: x not in list2, list1))\n",
    "    return result\n",
    "\n",
    "list1 = [1,2,3,4,5,6,7,8,9,10]\n",
    "list2 = [2,4,6,8]\n",
    "\n",
    "print(\"Original lists:\")\n",
    "print(\"list1:\", list1)\n",
    "print(\"list2:\", list2)\n",
    "\n",
    "print(\"\\nRemove all elements from 'list1' present in 'list2:\")\n",
    "print(inner_list(list1, list2))"
   ]
  },
  {
   "cell_type": "markdown",
   "id": "5deef34a",
   "metadata": {},
   "source": [
    "3 - Negatif olmayan iki sayı alınız ve bu iki sayı arasındaki sayılardan tek olanları key, karelerini de value olacak şekilde sözlük haline getiren bir fonksiyon yazınız. (Sayıların kendileri dahil!)\n",
    "\n",
    "Example:\n",
    "keyvalue(12,5)\n",
    "\n",
    "{5: 25, 7: 49, 9: 81, 11: 121}"
   ]
  },
  {
   "cell_type": "code",
   "execution_count": 8,
   "id": "392998d1",
   "metadata": {},
   "outputs": [
    {
     "name": "stdout",
     "output_type": "stream",
     "text": [
      "{3: 9, 5: 25, 7: 49, 9: 81, 11: 121, 13: 169, 15: 225}\n"
     ]
    }
   ],
   "source": [
    "def keyvalue(start, end):\n",
    "    if start < 0 or end < 0:\n",
    "        return \"Negatif sayi girişi yapilamaz.\"\n",
    "\n",
    "    result_dict = {i: i**2 for i in range(start, end+1) if i % 2 != 0}\n",
    "\n",
    "    return result_dict\n",
    "\n",
    "start_number = 3\n",
    "end_number = 15\n",
    "\n",
    "result = keyvalue(start_number, end_number)\n",
    "print(result)\n"
   ]
  },
  {
   "cell_type": "markdown",
   "id": "903f7ae5",
   "metadata": {},
   "source": [
    "4 - Ardışık sıfırlar ve birler:\n",
    "\n",
    "Bu sorunun amacı, yalnızca sıfırlar ve birlerden oluşan bir ikili diziyi analiz etmektir. Kodunuz, dizedeki en büyük ardışık sıfır ve birlerin sayısını bulmalıdır. Örneğin, dize verildiğinde:\n",
    "\n",
    "\"1001101000110\" Ardışık sıfırların en büyük sayısı 3'tür.\n",
    "\n",
    "\"1001101000110\" Ardışık birlerin en büyük sayısı 2'dir.\n",
    "\n",
    "Sıfırlar ve birler dizisi olan tek bir parametre alan ardışık_sıfırlar adlı bir fonksiyon tanımlayın."
   ]
  },
  {
   "cell_type": "code",
   "execution_count": 11,
   "id": "83823ad3",
   "metadata": {},
   "outputs": [
    {
     "name": "stdout",
     "output_type": "stream",
     "text": [
      "{'Ardişik sifirlar ': 4, 'Ardişik Birler': 3}\n"
     ]
    }
   ],
   "source": [
    "def ardişik_sifirlar(s):\n",
    "    max_sifir = max_bir = current_sifir = current_bir = 0\n",
    "\n",
    "    for karakter in s:\n",
    "        if karakter == '0':\n",
    "            current_sifir += 1\n",
    "            current_bir = 0\n",
    "            max_sifir = max(max_sifir, current_sifir)\n",
    "        elif karakter == '1':\n",
    "            current_bir += 1\n",
    "            current_sifir = 0\n",
    "            max_bir = max(max_bir, current_bir)\n",
    "\n",
    "    return {\"Ardişik sifirlar \": max_sifir, \"Ardişik Birler\": max_bir}\n",
    "\n",
    "input_str = \"100111010000110\"\n",
    "result = ardişik_sifirlar(input_str)\n",
    "print(result)\n"
   ]
  },
  {
   "cell_type": "markdown",
   "id": "26614e94",
   "metadata": {},
   "source": [
    "5- \n",
    "Parametre olarak negatif olmayan bir sayı alan \"format_number\" adında bir fonksiyon yazın.\n",
    "\n",
    "Fonksiyonunuz sayıyı bir stringe dönüştürmeli ve binlik ayırıcı olarak virgül eklemelidir.\n",
    "\n",
    "Örneğin, format_number(1000000) Output: \"1,000,000\" çıktısını vermelidir."
   ]
  },
  {
   "cell_type": "code",
   "execution_count": 14,
   "id": "d4efed96",
   "metadata": {},
   "outputs": [
    {
     "name": "stdout",
     "output_type": "stream",
     "text": [
      "9,876,543,210\n"
     ]
    }
   ],
   "source": [
    "def format_number(number):\n",
    "\n",
    "    if number < 0:\n",
    "        return \"Negatif olmayan bir sayi girmelisiniz.\"\n",
    "\n",
    "    formatted_number = \"{:,}\".format(number)\n",
    "\n",
    "    return formatted_number\n",
    "\n",
    "sayi = 9876543210\n",
    "formatli_sayi = format_number(sayi)\n",
    "print(formatli_sayi)\n"
   ]
  },
  {
   "cell_type": "markdown",
   "id": "52dc60b7",
   "metadata": {},
   "source": [
    "6-\n",
    "Kullanıcıdan alınan bir text dizisinin tüm noktalama işaretlerini temizleyen bir fonksiyon yazınız.\n",
    "Example:\n",
    "cleaning(\"nas,ıls..ın\") >>> \"nasılsın\""
   ]
  },
  {
   "cell_type": "code",
   "execution_count": 29,
   "metadata": {},
   "outputs": [
    {
     "name": "stdout",
     "output_type": "stream",
     "text": [
      "Noktalama işaretlerinden arindirilmiş metin: Merhaba Nasilsiniz \n"
     ]
    }
   ],
   "source": [
    "def remove_punctuation(input_text):\n",
    "    punctuation_chars = \"!\\\"#$%&'()*+,-./:;<=>?@[\\\\]^_`{|}~\"\n",
    "\n",
    "    cleaned_text = ''.join(char for char in input_text if char not in punctuation_chars)\n",
    "\n",
    "    return cleaned_text\n",
    "\n",
    "user_input = input(\"Bir metin dizisi girin: \")\n",
    "\n",
    "result = remove_punctuation(user_input)\n",
    "print(\"Noktalama işaretlerinden arindirilmiş metin:\", result)\n"
   ]
  },
  {
   "cell_type": "markdown",
   "id": "d7d5f9a8",
   "metadata": {},
   "source": [
    "7-\n",
    "Kullanıcıdan bir sayı girmesini isteyin ve girilen sayıya göre papatya falı döndüren algoritma yazın. Son çıktının tüm karakterlerinin upper olmasına dikkat edin.\n",
    "\n",
    "example:\n",
    "input >> 5\n",
    "output >> ['Loves Me', 'Loves Me Not', 'Loves Me', 'Loves Me Not', 'LOVES ME']"
   ]
  },
  {
   "cell_type": "code",
   "execution_count": 33,
   "metadata": {},
   "outputs": [
    {
     "name": "stdout",
     "output_type": "stream",
     "text": [
      "Daisy Fortune Result: ['Loves Me', 'Loves Me Not', 'LOVES ME']\n"
     ]
    }
   ],
   "source": [
    "def papatya_fali(number):\n",
    "    result = []\n",
    "\n",
    "    for i in range(1, number + 1):\n",
    "        if i % 2 == 0:\n",
    "            result.append(\"Loves Me Not\")\n",
    "        else:\n",
    "            result.append(\"Loves Me\")\n",
    "\n",
    "    result[-1] = result[-1].upper()\n",
    "\n",
    "    return result\n",
    "\n",
    "try:\n",
    "    user_number = int(input(\"Enter a number: \"))\n",
    "    fal_sonucu = papatya_fali(user_number)\n",
    "    print(\"Daisy Fortune Result:\", fal_sonucu)\n",
    "\n",
    "except ValueError:\n",
    "    print(\"Please enter a valid number.\")\n"
   ]
  },
  {
   "cell_type": "markdown",
   "id": "f75b8f0f",
   "metadata": {},
   "source": [
    "8 - Write a function that sorts the odd numbers in ascending order that leaves the even numbers in their original positions in a given string of numbers.\n",
    "\n",
    "Example:\n",
    "\n",
    "[7, 1] => [1, 7]\n",
    "\n",
    "[5, 8, 6, 3, 4] => [3, 8, 6, 5, 4]\n",
    "\n",
    "[9, 8, 7, 6, 5, 4, 3, 2, 1, 0] => [1, 8, 3, 6, 5, 4, 7, 2, 9, 0]"
   ]
  },
  {
   "cell_type": "code",
   "execution_count": 34,
   "metadata": {},
   "outputs": [
    {
     "name": "stdout",
     "output_type": "stream",
     "text": [
      "[1, 3, 5, 8, 6, 7, 4, 9, 2]\n"
     ]
    }
   ],
   "source": [
    "def sort_odd_numbers(numbers):\n",
    "    odd_numbers = sorted([num for num in numbers if num % 2 != 0])\n",
    "    sorted_result = [odd_numbers.pop(0) if num % 2 != 0 else num for num in numbers]\n",
    "    return sorted_result\n",
    "\n",
    "result = sort_odd_numbers([7, 1, 5, 8, 6, 3, 4, 9, 2])\n",
    "print(result)\n"
   ]
  },
  {
   "cell_type": "markdown",
   "id": "0de6ca91",
   "metadata": {},
   "source": [
    "9 - bir fonksiyon yazın. İçerisine girilen string ifadenin her seferinde sırayla bir harfini büyük yazdırsın. Sonuç olarak liste döndürsün. Punctuation lar işleme dahil edilmemelidir.\n",
    "\n",
    "Example:\n",
    "input >> ankara\n",
    "\n",
    "output >> ['Ankara', 'aNkara', 'anKara', 'ankAra', 'ankaRa', 'ankarA']"
   ]
  },
  {
   "cell_type": "code",
   "execution_count": 36,
   "id": "9c0eb1c8",
   "metadata": {},
   "outputs": [
    {
     "name": "stdout",
     "output_type": "stream",
     "text": [
      "['Erzurum', 'eRzurum', 'erZurum', 'erzUrum', 'erzuRum', 'erzurUm', 'erzuruM']\n"
     ]
    }
   ],
   "source": [
    "def capitalize_letters(input_str):\n",
    "    result_list = []\n",
    "\n",
    "    for i in range(len(input_str)):\n",
    "        if input_str[i].isalpha():\n",
    "            result_list.append(input_str[:i] + input_str[i].upper() + input_str[i+1:])\n",
    "    \n",
    "    return result_list\n",
    "\n",
    "input_string = \"erzurum\"\n",
    "result = capitalize_letters(input_string)\n",
    "print(result)\n"
   ]
  },
  {
   "cell_type": "markdown",
   "id": "3ecf0ab9",
   "metadata": {},
   "source": [
    "10 - Write a function scramble(str1, str2) that returns true if some of the str 1 characters can be rearranged to match str 2, false otherwise\n",
    "#Note >> Only lower case letters will be used (a-z). No punctuation or digits will be included.\n",
    "\n",
    "#Examples\n",
    "#scramble('rkqodlw', 'world') ==> True\n",
    "#scramble('katas', 'steak') ==> False"
   ]
  },
  {
   "cell_type": "code",
   "execution_count": 40,
   "id": "0d3f0772",
   "metadata": {},
   "outputs": [
    {
     "name": "stdout",
     "output_type": "stream",
     "text": [
      "True\n",
      "False\n",
      "True\n"
     ]
    }
   ],
   "source": [
    "def scramble(str1, str2):\n",
    "    \n",
    "    char_count_str1 = {}\n",
    "\n",
    "    for char in str1:\n",
    "        char_count_str1[char] = char_count_str1.get(char, 0) + 1\n",
    "\n",
    "    for char in str2:\n",
    "        if char not in char_count_str1 or char_count_str1[char] == 0:\n",
    "            return False\n",
    "        else:\n",
    "            char_count_str1[char] -= 1\n",
    "\n",
    "    return True\n",
    "\n",
    "print(scramble('rkqodlw', 'world'))  # Output: True\n",
    "print(scramble('katas', 'steak'))    # Output: False\n",
    "print(scramble('abermha', 'merhaba'))\n"
   ]
  },
  {
   "cell_type": "markdown",
   "id": "c0900727",
   "metadata": {},
   "source": [
    "11 - 1 den 100 e kadar olan sayılardaki asal sayıları bulun. \n",
    "\n",
    "Output >>> [2, 3, 5, 7, 11, 13, 17, 19, 23, 29, 31, 37, 41, 43, 47, 53, 59, 61, 67, 71, 73, 79, 83, 89, 97]"
   ]
  },
  {
   "cell_type": "code",
   "execution_count": 41,
   "id": "5b6cc46c",
   "metadata": {},
   "outputs": [
    {
     "name": "stdout",
     "output_type": "stream",
     "text": [
      "2,3,5,7,11,13,17,19,23,29,31,37,41,43,47,53,59,61,67,71,73,79,83,89,97,"
     ]
    }
   ],
   "source": [
    "for i in range(2,101): \n",
    "\n",
    "    for j in range(2,101):\n",
    "        if i%j == 0:\n",
    "            break\n",
    "        \n",
    "    if i == j:\n",
    "        print(i,end=\",\")"
   ]
  },
  {
   "cell_type": "markdown",
   "id": "e8a6836f",
   "metadata": {},
   "source": [
    "12 - ```\n",
    "7- Once upon a time, on a way through the old wild mountainous west,…\n",
    "… a man was given directions to go from one point to another. The directions were \"NORTH\", \"SOUTH\", \"WEST\", \"EAST\". Clearly \"NORTH\" and \"SOUTH\" are opposite, \"WEST\" and \"EAST\" too.\n",
    "\n",
    "Going to one direction and coming back the opposite direction right away is a needless effort. Since this is the wild west, with dreadfull weather and not much water, it's important to save yourself some energy, otherwise you might die of thirst!\n",
    "\n",
    "How I crossed a mountainous desert the smart way.\n",
    "The directions given to the man are, for example, the following (depending on the language):\n",
    "\n",
    "[\"NORTH\", \"SOUTH\", \"SOUTH\", \"EAST\", \"WEST\", \"NORTH\", \"WEST\"].\n",
    "or\n",
    "{ \"NORTH\", \"SOUTH\", \"SOUTH\", \"EAST\", \"WEST\", \"NORTH\", \"WEST\" };\n",
    "or\n",
    "[North, South, South, East, West, North, West]\n",
    "You can immediatly see that going \"NORTH\" and immediately \"SOUTH\" is not reasonable, better stay to the same place! So the task is to give to the man a simplified version of the plan. A better plan in this case is simply:\n",
    "\n",
    "[\"WEST\"]\n",
    "or\n",
    "{ \"WEST\" }\n",
    "or\n",
    "[West]\n",
    "Other examples:\n",
    "In [\"NORTH\", \"SOUTH\", \"EAST\", \"WEST\"], the direction \"NORTH\" + \"SOUTH\" is going north and coming back right away.\n",
    "\n",
    "The path becomes [\"EAST\", \"WEST\"], now \"EAST\" and \"WEST\" annihilate each other, therefore, the final result is [] (nil in Clojure).\n",
    "\n",
    "In [\"NORTH\", \"EAST\", \"WEST\", \"SOUTH\", \"WEST\", \"WEST\"], \"NORTH\" and \"SOUTH\" are not directly opposite but they become directly opposite after the reduction of \"EAST\" and \"WEST\" so the whole path is reducible to [\"WEST\", \"WEST\"].\n",
    "\n",
    "Task\n",
    "Write a function dirReduc which will take an array of strings and returns an array of strings with the needless directions removed (W<->E or S<->N side by side).\n",
    "\n",
    "The Haskell version takes a list of directions with data Direction = North | East | West | South.\n",
    "The Clojure version returns nil when the path is reduced to nothing.\n",
    "The Rust version takes a slice of enum Direction {North, East, West, South}.\n",
    "See more examples in \"Sample Tests:\"\n",
    "Notes\n",
    "Not all paths can be made simpler. The path [\"NORTH\", \"WEST\", \"SOUTH\", \"EAST\"] is not reducible. \"NORTH\" and \"WEST\", \"WEST\" and \"SOUTH\", \"SOUTH\" and \"EAST\" are not directly opposite of each other and can't become such. Hence the result path is itself : [\"NORTH\", \"WEST\", \"SOUTH\", \"EAST\"].\n",
    "```\n",
    "\n",
    "\n"
   ]
  },
  {
   "cell_type": "code",
   "execution_count": 44,
   "metadata": {},
   "outputs": [
    {
     "name": "stdout",
     "output_type": "stream",
     "text": [
      "Final map is ['WEST']\n"
     ]
    }
   ],
   "source": [
    "map = [ \"NORTH\", \"SOUTH\", \"SOUTH\", \"EAST\", \"WEST\", \"NORTH\", \"WEST\" ]\n",
    "\n",
    "opposites = { \"NORTH\": \"SOUTH\", \"SOUTH\": \"NORTH\", \"EAST\": \"WEST\", \"WEST\": \"EAST\" }\n",
    "\n",
    "def dirReduc(list): \n",
    "    new_list = [ ] \n",
    "    for i in range(0,len(list)): \n",
    "        if len(new_list) == 0: \n",
    "            new_list.append(list[i]) \n",
    "        elif new_list[-1] != opposites[list[i]]: \n",
    "            new_list.append(list[i]) \n",
    "        else: \n",
    "            new_list.pop() \n",
    "    return new_list\n",
    "\n",
    "new_map = dirReduc(map)\n",
    "print(f\"Final map is {new_map}\")"
   ]
  }
 ],
 "metadata": {
  "kernelspec": {
   "display_name": "Python 3 (ipykernel)",
   "language": "python",
   "name": "python3"
  },
  "language_info": {
   "codemirror_mode": {
    "name": "ipython",
    "version": 3
   },
   "file_extension": ".py",
   "mimetype": "text/x-python",
   "name": "python",
   "nbconvert_exporter": "python",
   "pygments_lexer": "ipython3",
   "version": "3.11.5"
  }
 },
 "nbformat": 4,
 "nbformat_minor": 5
}
