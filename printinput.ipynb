{
 "cells": [
  {
   "cell_type": "markdown",
   "metadata": {},
   "source": [
    "# print() function"
   ]
  },
  {
   "cell_type": "code",
   "execution_count": 1,
   "metadata": {},
   "outputs": [
    {
     "name": "stdout",
     "output_type": "stream",
     "text": [
      "Sueda**Nursena**Ozlem\n"
     ]
    }
   ],
   "source": [
    "print(\"Sueda\" , \"Nursena\" , \"Ozlem\" , sep= \"**\")"
   ]
  },
  {
   "cell_type": "code",
   "execution_count": 2,
   "metadata": {},
   "outputs": [
    {
     "name": "stdout",
     "output_type": "stream",
     "text": [
      "Ayse\n",
      "Ali\n"
     ]
    }
   ],
   "source": [
    "print(\"Ayse\")\n",
    "print(\"Ali\")"
   ]
  },
  {
   "cell_type": "code",
   "execution_count": 3,
   "metadata": {},
   "outputs": [
    {
     "name": "stdout",
     "output_type": "stream",
     "text": [
      "Ayse*Ali\n"
     ]
    }
   ],
   "source": [
    "print(\"Ayse\" ,end= \"*\")\n",
    "print(\"Ali\")"
   ]
  },
  {
   "cell_type": "code",
   "execution_count": 4,
   "metadata": {},
   "outputs": [
    {
     "name": "stdout",
     "output_type": "stream",
     "text": [
      "Ayse*Ali?Ahmet\n"
     ]
    }
   ],
   "source": [
    "print(\"Ayse\" ,end= \"*\")\n",
    "print(\"Ali\" , end=\"?\")\n",
    "print(\"Ahmet\")"
   ]
  },
  {
   "cell_type": "code",
   "execution_count": 5,
   "metadata": {},
   "outputs": [
    {
     "name": "stdout",
     "output_type": "stream",
     "text": [
      "Sueda\n",
      "Nursena\n",
      "Ozlem\n"
     ]
    }
   ],
   "source": [
    "print(\"Sueda\" , \"Nursena\" , \"Ozlem\" , sep= \"\\n\")"
   ]
  },
  {
   "cell_type": "code",
   "execution_count": 7,
   "metadata": {},
   "outputs": [
    {
     "name": "stdout",
     "output_type": "stream",
     "text": [
      "hello world--35**40**75\n",
      "son satir\n"
     ]
    }
   ],
   "source": [
    "print (\"hello world\" , end= \"--\")\n",
    "print (\"35\", 40, \"75\", sep= \"**\")\n",
    "print (\"son satir\")"
   ]
  },
  {
   "cell_type": "markdown",
   "metadata": {},
   "source": [
    "# input\n",
    "# inputta aldiginiz veri her zaman String'dir."
   ]
  },
  {
   "cell_type": "code",
   "execution_count": 8,
   "metadata": {},
   "outputs": [
    {
     "data": {
      "text/plain": [
       "'merhaba'"
      ]
     },
     "execution_count": 8,
     "metadata": {},
     "output_type": "execute_result"
    }
   ],
   "source": [
    "input()"
   ]
  },
  {
   "cell_type": "code",
   "execution_count": 9,
   "metadata": {},
   "outputs": [
    {
     "data": {
      "text/plain": [
       "'25'"
      ]
     },
     "execution_count": 9,
     "metadata": {},
     "output_type": "execute_result"
    }
   ],
   "source": [
    "input(\"Lutfen yasinizi giriniz!!!\")"
   ]
  },
  {
   "cell_type": "code",
   "execution_count": 11,
   "metadata": {},
   "outputs": [],
   "source": [
    "age = input(\"Lutfen yasinizi giriniz!!!\")"
   ]
  },
  {
   "cell_type": "code",
   "execution_count": 12,
   "metadata": {},
   "outputs": [
    {
     "name": "stdout",
     "output_type": "stream",
     "text": [
      "34\n"
     ]
    }
   ],
   "source": [
    "print(age)"
   ]
  },
  {
   "cell_type": "code",
   "execution_count": 13,
   "metadata": {},
   "outputs": [
    {
     "data": {
      "text/plain": [
       "str"
      ]
     },
     "execution_count": 13,
     "metadata": {},
     "output_type": "execute_result"
    }
   ],
   "source": [
    "type(age)"
   ]
  },
  {
   "cell_type": "markdown",
   "metadata": {},
   "source": [
    "# Kullanıcıdan kilo ve boy bilgisini alan ve girilen bilgilere göre vücut kitle indeksini(vki) hesaplayan kodu yazın"
   ]
  },
  {
   "cell_type": "code",
   "execution_count": 15,
   "metadata": {},
   "outputs": [
    {
     "name": "stdout",
     "output_type": "stream",
     "text": [
      "Vucut kutle endeksi = 0.002775510204081633\n"
     ]
    }
   ],
   "source": [
    "kilo = input(\"Lütfen kilonuzu kg olarak giriniz, örneğin 55.6 kg\")\n",
    "kilo = float(kilo)\n",
    "boy = input (\"Lütfen boyunuz kaç santimetreyse belirtin, örneğin 176 cm\")\n",
    "boy = float(boy)\n",
    "vki = kilo / (boy ** 2)\n",
    "print(\"Vucut kutle endeksi =\" ,vki)"
   ]
  },
  {
   "cell_type": "markdown",
   "metadata": {},
   "source": [
    "# Escape Sequences"
   ]
  },
  {
   "cell_type": "code",
   "execution_count": 16,
   "metadata": {},
   "outputs": [
    {
     "name": "stdout",
     "output_type": "stream",
     "text": [
      "I'm a python teacher\n"
     ]
    }
   ],
   "source": [
    "print(\"I\\'m a python teacher\")"
   ]
  },
  {
   "cell_type": "code",
   "execution_count": 23,
   "metadata": {},
   "outputs": [
    {
     "name": "stdout",
     "output_type": "stream",
     "text": [
      "Bugün hava \n",
      " çok sicak\n"
     ]
    }
   ],
   "source": [
    "print(\"Bugün hava \\n çok sicak\")"
   ]
  },
  {
   "cell_type": "code",
   "execution_count": 18,
   "metadata": {},
   "outputs": [
    {
     "name": "stdout",
     "output_type": "stream",
     "text": [
      "su\n",
      "ali\n",
      "veli\n"
     ]
    }
   ],
   "source": [
    "print(\"su\" , \"ali\" , \"veli\", sep= \"\\n\")\n",
    "# sep bütün kelimelere uyguluyor alt\n",
    "# satıra geçmesi için hepsine ayrı ayrı yazmak gerekmiyor."
   ]
  },
  {
   "cell_type": "code",
   "execution_count": 24,
   "metadata": {},
   "outputs": [
    {
     "name": "stdout",
     "output_type": "stream",
     "text": [
      "bugün hava \t çok sicak\n"
     ]
    }
   ],
   "source": [
    "print(\"bugün hava \\t çok sicak\")\n",
    "# araya boşluk koyuyor"
   ]
  },
  {
   "cell_type": "code",
   "execution_count": 25,
   "metadata": {},
   "outputs": [
    {
     "name": "stdout",
     "output_type": "stream",
     "text": [
      "bugün hava çok sicak\n"
     ]
    }
   ],
   "source": [
    "print(\"bugün hava \\b çok sicak\")\n",
    "#ikiden harf silmek için. mesela bunda boşluğu sildi"
   ]
  },
  {
   "cell_type": "code",
   "execution_count": 26,
   "metadata": {},
   "outputs": [
    {
     "name": "stdout",
     "output_type": "stream",
     "text": [
      "bugün havaçok sica\n"
     ]
    }
   ],
   "source": [
    "print(\"bugün hava \\bçok sicak\\b\")\n",
    "#burda uygulandğında sıcak kelimesinden\n",
    "#sondaki harfi sildi"
   ]
  },
  {
   "cell_type": "code",
   "execution_count": 27,
   "metadata": {},
   "outputs": [
    {
     "name": "stdout",
     "output_type": "stream",
     "text": [
      "bugün hava \\nçok sicak\n"
     ]
    }
   ],
   "source": [
    "print(r\"bugün hava \\nçok sicak\")\n",
    "#başına 'r' koyduğmuz zaman sonrasında\n",
    "#yazmış olduğunuz '\\n' hiç bir etkisi kalmıyor."
   ]
  }
 ],
 "metadata": {
  "kernelspec": {
   "display_name": "Python 3",
   "language": "python",
   "name": "python3"
  },
  "language_info": {
   "codemirror_mode": {
    "name": "ipython",
    "version": 3
   },
   "file_extension": ".py",
   "mimetype": "text/x-python",
   "name": "python",
   "nbconvert_exporter": "python",
   "pygments_lexer": "ipython3",
   "version": "3.11.5"
  },
  "orig_nbformat": 4
 },
 "nbformat": 4,
 "nbformat_minor": 2
}
