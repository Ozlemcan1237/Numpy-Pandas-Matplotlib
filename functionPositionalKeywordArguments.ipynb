{
 "cells": [
  {
   "cell_type": "markdown",
   "metadata": {},
   "source": [
    "### Positional and Keyword Arguments"
   ]
  },
  {
   "cell_type": "code",
   "execution_count": 1,
   "metadata": {},
   "outputs": [],
   "source": [
    "def my_name(first_name,last_name):\n",
    "    print(f\"My name is {first_name} {last_name}\")"
   ]
  },
  {
   "cell_type": "code",
   "execution_count": 2,
   "metadata": {},
   "outputs": [
    {
     "name": "stdout",
     "output_type": "stream",
     "text": [
      "My name is ozlem can\n"
     ]
    }
   ],
   "source": [
    "my_name(\"ozlem\", \"can\")  # parametreleri tanimladigimiz sirayla cagirmaliyiz"
   ]
  },
  {
   "cell_type": "code",
   "execution_count": 3,
   "metadata": {},
   "outputs": [
    {
     "name": "stdout",
     "output_type": "stream",
     "text": [
      "My name is can ozlem\n"
     ]
    }
   ],
   "source": [
    "my_name(\"can\", \"ozlem\")"
   ]
  },
  {
   "cell_type": "code",
   "execution_count": 4,
   "metadata": {},
   "outputs": [
    {
     "name": "stdout",
     "output_type": "stream",
     "text": [
      "My name is ozlem can\n"
     ]
    }
   ],
   "source": [
    "my_name(last_name=\"can\", first_name=\"ozlem\")"
   ]
  },
  {
   "cell_type": "code",
   "execution_count": 5,
   "metadata": {},
   "outputs": [
    {
     "ename": "TypeError",
     "evalue": "my_name() missing 1 required positional argument: 'last_name'",
     "output_type": "error",
     "traceback": [
      "\u001b[1;31m---------------------------------------------------------------------------\u001b[0m",
      "\u001b[1;31mTypeError\u001b[0m                                 Traceback (most recent call last)",
      "\u001b[1;32mc:\\Users\\sueda\\Desktop\\B223\\functionPositionalKeywordArguments.ipynb Cell 6\u001b[0m line \u001b[0;36m1\n\u001b[1;32m----> <a href='vscode-notebook-cell:/c%3A/Users/sueda/Desktop/B223/functionPositionalKeywordArguments.ipynb#X10sZmlsZQ%3D%3D?line=0'>1</a>\u001b[0m my_name(\u001b[39m\"\u001b[39;49m\u001b[39mozlem\u001b[39;49m\u001b[39m\"\u001b[39;49m)  \u001b[39m# 1 arguman eksik yazdigimiz icin hata verir\u001b[39;00m\n",
      "\u001b[1;31mTypeError\u001b[0m: my_name() missing 1 required positional argument: 'last_name'"
     ]
    }
   ],
   "source": [
    "my_name(\"ozlem\")  # 1 arguman eksik yazdigimiz icin hata verir"
   ]
  },
  {
   "cell_type": "code",
   "execution_count": 6,
   "metadata": {},
   "outputs": [],
   "source": [
    "def your_name(first_name, last_name = \"demir\"):\n",
    "    print(f\"My name is {first_name} {last_name}\")"
   ]
  },
  {
   "cell_type": "code",
   "execution_count": 7,
   "metadata": {},
   "outputs": [
    {
     "name": "stdout",
     "output_type": "stream",
     "text": [
      "My name is ozlem can\n"
     ]
    }
   ],
   "source": [
    "your_name(\"ozlem\", \"can\")"
   ]
  },
  {
   "cell_type": "code",
   "execution_count": 8,
   "metadata": {},
   "outputs": [
    {
     "name": "stdout",
     "output_type": "stream",
     "text": [
      "My name is sueda demir\n"
     ]
    }
   ],
   "source": [
    "your_name(\"sueda\")"
   ]
  },
  {
   "cell_type": "code",
   "execution_count": 9,
   "metadata": {},
   "outputs": [
    {
     "ename": "SyntaxError",
     "evalue": "non-default argument follows default argument (1024131813.py, line 1)",
     "output_type": "error",
     "traceback": [
      "\u001b[1;36m  Cell \u001b[1;32mIn[9], line 1\u001b[1;36m\u001b[0m\n\u001b[1;33m    def your_name_2(first_name, second_name = \"ali\", last_name): # default degerleri en sona tanimlamaliyiz\u001b[0m\n\u001b[1;37m                                                     ^\u001b[0m\n\u001b[1;31mSyntaxError\u001b[0m\u001b[1;31m:\u001b[0m non-default argument follows default argument\n"
     ]
    }
   ],
   "source": [
    "def your_name_2(first_name, second_name = \"ali\", last_name): # default degerleri en sona tanimlamaliyiz\n",
    "    print(f\"My name is {first_name} {second_name} {last_name}\")"
   ]
  },
  {
   "cell_type": "code",
   "execution_count": 10,
   "metadata": {},
   "outputs": [],
   "source": [
    "def your_name_2(first_name, last_name, second_name = \"ali\"): # default degerleri en sona tanimlamaliyiz\n",
    "    print(f\"My name is {first_name} {second_name} {last_name}\")"
   ]
  },
  {
   "cell_type": "code",
   "execution_count": 11,
   "metadata": {},
   "outputs": [
    {
     "name": "stdout",
     "output_type": "stream",
     "text": [
      "My name is ece koseoglu cesur\n"
     ]
    }
   ],
   "source": [
    "your_name_2(\"ece\", \"cesur\", \"koseoglu\")"
   ]
  },
  {
   "cell_type": "code",
   "execution_count": 12,
   "metadata": {},
   "outputs": [
    {
     "name": "stdout",
     "output_type": "stream",
     "text": [
      "My name is ece cesur koseoglu\n"
     ]
    }
   ],
   "source": [
    "your_name_2(\"ece\", \"koseoglu\", \"cesur\")"
   ]
  },
  {
   "cell_type": "code",
   "execution_count": 13,
   "metadata": {},
   "outputs": [],
   "source": [
    "a = \"Adana\"\n",
    "b = \"I\"\n",
    "c = \"\\U00002764\"\n",
    "# kod ve ifadeler"
   ]
  },
  {
   "cell_type": "code",
   "execution_count": 14,
   "metadata": {},
   "outputs": [
    {
     "data": {
      "text/plain": [
       "'❤'"
      ]
     },
     "execution_count": 14,
     "metadata": {},
     "output_type": "execute_result"
    }
   ],
   "source": [
    "\"\\U00002764\""
   ]
  },
  {
   "cell_type": "code",
   "execution_count": 15,
   "metadata": {},
   "outputs": [],
   "source": [
    "def love(pos1, pos2, pos3): # ı love adana yazıcaz\n",
    "\n",
    "    print(f\"{pos2} {pos3} {pos1}\") # ı love adana a b c sıralaması ile yazdık"
   ]
  },
  {
   "cell_type": "code",
   "execution_count": 16,
   "metadata": {},
   "outputs": [
    {
     "name": "stdout",
     "output_type": "stream",
     "text": [
      "I ❤ Adana\n"
     ]
    }
   ],
   "source": [
    "love(a,b,c)\n",
    "# doğru bir çıktı almak için sıralamalrı doğru kodla"
   ]
  },
  {
   "cell_type": "code",
   "execution_count": 17,
   "metadata": {},
   "outputs": [
    {
     "name": "stdout",
     "output_type": "stream",
     "text": [
      "Adana ❤ I\n"
     ]
    }
   ],
   "source": [
    "love(b,a,c)"
   ]
  },
  {
   "cell_type": "code",
   "execution_count": 18,
   "metadata": {},
   "outputs": [
    {
     "data": {
      "text/plain": [
       "[(0, 't'), (1, 'e'), (2, 'c'), (3, 'h'), (4, 'p'), (5, 'r'), (6, 'o')]"
      ]
     },
     "execution_count": 18,
     "metadata": {},
     "output_type": "execute_result"
    }
   ],
   "source": [
    "list(enumerate(\"techpro\"))"
   ]
  },
  {
   "cell_type": "code",
   "execution_count": 19,
   "metadata": {},
   "outputs": [
    {
     "data": {
      "text/plain": [
       "[(100, 't'),\n",
       " (101, 'e'),\n",
       " (102, 'c'),\n",
       " (103, 'h'),\n",
       " (104, 'p'),\n",
       " (105, 'r'),\n",
       " (106, 'o')]"
      ]
     },
     "execution_count": 19,
     "metadata": {},
     "output_type": "execute_result"
    }
   ],
   "source": [
    "list(enumerate(\"techpro\",100)) # baslangic degeri yazdik"
   ]
  },
  {
   "cell_type": "code",
   "execution_count": 20,
   "metadata": {},
   "outputs": [
    {
     "ename": "TypeError",
     "evalue": "'str' object cannot be interpreted as an integer",
     "output_type": "error",
     "traceback": [
      "\u001b[1;31m---------------------------------------------------------------------------\u001b[0m",
      "\u001b[1;31mTypeError\u001b[0m                                 Traceback (most recent call last)",
      "\u001b[1;32mc:\\Users\\sueda\\Desktop\\B223\\functionPositionalKeywordArguments.ipynb Cell 21\u001b[0m line \u001b[0;36m1\n\u001b[1;32m----> <a href='vscode-notebook-cell:/c%3A/Users/sueda/Desktop/B223/functionPositionalKeywordArguments.ipynb#X26sZmlsZQ%3D%3D?line=0'>1</a>\u001b[0m \u001b[39mlist\u001b[39m(\u001b[39menumerate\u001b[39;49m(\u001b[39m100\u001b[39;49m, \u001b[39m\"\u001b[39;49m\u001b[39mtechpro\u001b[39;49m\u001b[39m\"\u001b[39;49m))\n\u001b[0;32m      <a href='vscode-notebook-cell:/c%3A/Users/sueda/Desktop/B223/functionPositionalKeywordArguments.ipynb#X26sZmlsZQ%3D%3D?line=1'>2</a>\u001b[0m \u001b[39m# 100 sayısını önce yazarsak hata alır\u001b[39;00m\n\u001b[0;32m      <a href='vscode-notebook-cell:/c%3A/Users/sueda/Desktop/B223/functionPositionalKeywordArguments.ipynb#X26sZmlsZQ%3D%3D?line=2'>3</a>\u001b[0m \u001b[39m# ilk ifade iterable olması şart çünkü.\u001b[39;00m\n",
      "\u001b[1;31mTypeError\u001b[0m: 'str' object cannot be interpreted as an integer"
     ]
    }
   ],
   "source": [
    "list(enumerate(100, \"techpro\"))\n",
    "# 100 sayısını önce yazarsak hata alır\n",
    "# ilk ifade iterable olması şart çünkü."
   ]
  },
  {
   "cell_type": "code",
   "execution_count": 21,
   "metadata": {},
   "outputs": [],
   "source": [
    "def tek_sayilar(a,b,c,d,e): #tek sayıları bulan kod yazıcaz\n",
    "\n",
    "    tek_sayilar = []\n",
    "    for i in a,b,c,d,e:\n",
    "\n",
    "        if i % 2:# tek sayı\n",
    "            tek_sayilar.append(i)\n",
    "\n",
    "    return tek_sayilar"
   ]
  },
  {
   "cell_type": "code",
   "execution_count": 22,
   "metadata": {},
   "outputs": [
    {
     "data": {
      "text/plain": [
       "[25, 9]"
      ]
     },
     "execution_count": 22,
     "metadata": {},
     "output_type": "execute_result"
    }
   ],
   "source": [
    "tek_sayilar(10,25,32,4,9)\n",
    "# tek sayı olanları output yapıcak."
   ]
  },
  {
   "cell_type": "code",
   "execution_count": 23,
   "metadata": {},
   "outputs": [
    {
     "ename": "TypeError",
     "evalue": "tek_sayilar() missing 1 required positional argument: 'e'",
     "output_type": "error",
     "traceback": [
      "\u001b[1;31m---------------------------------------------------------------------------\u001b[0m",
      "\u001b[1;31mTypeError\u001b[0m                                 Traceback (most recent call last)",
      "\u001b[1;32mc:\\Users\\sueda\\Desktop\\B223\\functionPositionalKeywordArguments.ipynb Cell 24\u001b[0m line \u001b[0;36m1\n\u001b[1;32m----> <a href='vscode-notebook-cell:/c%3A/Users/sueda/Desktop/B223/functionPositionalKeywordArguments.ipynb#X32sZmlsZQ%3D%3D?line=0'>1</a>\u001b[0m tek_sayilar(\u001b[39m10\u001b[39;49m,\u001b[39m25\u001b[39;49m,\u001b[39m32\u001b[39;49m,\u001b[39m4\u001b[39;49m)\u001b[39m# diyelim ki a,b,c,d,e eksik yazarsak\u001b[39;00m\n\u001b[0;32m      <a href='vscode-notebook-cell:/c%3A/Users/sueda/Desktop/B223/functionPositionalKeywordArguments.ipynb#X32sZmlsZQ%3D%3D?line=1'>2</a>\u001b[0m \u001b[39m# yani abcde yerine bes değer yazmak yerine dört tane değer yazarsak çalışmaz\u001b[39;00m\n\u001b[0;32m      <a href='vscode-notebook-cell:/c%3A/Users/sueda/Desktop/B223/functionPositionalKeywordArguments.ipynb#X32sZmlsZQ%3D%3D?line=2'>3</a>\u001b[0m \u001b[39m# hata verir.\u001b[39;00m\n",
      "\u001b[1;31mTypeError\u001b[0m: tek_sayilar() missing 1 required positional argument: 'e'"
     ]
    }
   ],
   "source": [
    "tek_sayilar(10,25,32,4)# diyelim ki a,b,c,d,e eksik yazarsak\n",
    "# yani abcde yerine bes değer yazmak yerine dört tane değer yazarsak çalışmaz\n",
    "# hata verir."
   ]
  },
  {
   "cell_type": "markdown",
   "metadata": {},
   "source": [
    "### Arbitrary Number of Arguments(* args, **kwargs)"
   ]
  },
  {
   "cell_type": "code",
   "execution_count": 30,
   "metadata": {},
   "outputs": [],
   "source": [
    "def tek_sayilar2(* sayilar): # sayılar diye tanımaldığmz çoklu olabilir demek * işaret\n",
    "\n",
    "    tek_sayilar = []\n",
    "    for i in sayilar:\n",
    "\n",
    "        if i % 2:# tek sayı\n",
    "            tek_sayilar.append(i)\n",
    "\n",
    "    return tek_sayilar"
   ]
  },
  {
   "cell_type": "code",
   "execution_count": 31,
   "metadata": {},
   "outputs": [
    {
     "data": {
      "text/plain": [
       "[5, 3, 5, 77, 435]"
      ]
     },
     "execution_count": 31,
     "metadata": {},
     "output_type": "execute_result"
    }
   ],
   "source": [
    "tek_sayilar2(5,4,3,32,5,76,77,435)# istedğimiz kadar sayı yazdık çalışır\n",
    "# yukarda yapınca belli sayı kadar girmen gerekiyordu\n",
    "# * bu işareti kullnınca zaten çoklu ifade demek\n",
    "# istedğin kadar yazıp çağırabilirsin"
   ]
  },
  {
   "cell_type": "code",
   "execution_count": 32,
   "metadata": {},
   "outputs": [
    {
     "data": {
      "text/plain": [
       "[]"
      ]
     },
     "execution_count": 32,
     "metadata": {},
     "output_type": "execute_result"
    }
   ],
   "source": [
    "tek_sayilar2()"
   ]
  },
  {
   "cell_type": "code",
   "execution_count": 27,
   "metadata": {},
   "outputs": [],
   "source": [
    "# string ifadeleri tersten yazdiralim\n",
    "\n",
    "def tersten_yazdirma(* kelimeler):\n",
    "\n",
    "    liste = []\n",
    "    for i in kelimeler:\n",
    "        liste.append(i[ : : -1 ]) # baştan başla kadar git\n",
    "\n",
    "    return liste"
   ]
  },
  {
   "cell_type": "code",
   "execution_count": 29,
   "metadata": {},
   "outputs": [
    {
     "data": {
      "text/plain": [
       "['nisre', 'navdir', 'adeus']"
      ]
     },
     "execution_count": 29,
     "metadata": {},
     "output_type": "execute_result"
    }
   ],
   "source": [
    "tersten_yazdirma(\"ersin\", \"ridvan\", \"sueda\")"
   ]
  },
  {
   "cell_type": "code",
   "execution_count": 33,
   "metadata": {},
   "outputs": [
    {
     "data": {
      "text/plain": [
       "[['sueda', 'ridvan', 'ersin']]"
      ]
     },
     "execution_count": 33,
     "metadata": {},
     "output_type": "execute_result"
    }
   ],
   "source": [
    "tersten_yazdirma([\"ersin\", \"ridvan\", \"sueda\"])\n",
    "#  liste olduğu için bir tane eleman olarak alır ve kelimelrin yerlerinei\n",
    "# değiştirir sondan başa doğru yazr."
   ]
  },
  {
   "cell_type": "code",
   "execution_count": 37,
   "metadata": {},
   "outputs": [],
   "source": [
    "def tek_kare_cift(* sayilar):\n",
    "\n",
    "    liste = []\n",
    "\n",
    "    for i in sayilar:\n",
    "\n",
    "        if i % 2:# tek sayı\n",
    "             liste.append(i ** 2)\n",
    "        else:\n",
    "            liste.append(i)\n",
    "\n",
    "    return liste"
   ]
  },
  {
   "cell_type": "code",
   "execution_count": 39,
   "metadata": {},
   "outputs": [
    {
     "data": {
      "text/plain": [
       "[9, 4, 25, 49]"
      ]
     },
     "execution_count": 39,
     "metadata": {},
     "output_type": "execute_result"
    }
   ],
   "source": [
    "tek_kare_cift(3,4,5,7)"
   ]
  },
  {
   "cell_type": "code",
   "execution_count": 42,
   "metadata": {},
   "outputs": [],
   "source": [
    "def tek_kare_cift2(* sayilar):\n",
    "\n",
    "   return [i if i % 2 == 0 else i ** 2 for i in sayilar]"
   ]
  },
  {
   "cell_type": "code",
   "execution_count": 43,
   "metadata": {},
   "outputs": [
    {
     "data": {
      "text/plain": [
       "[9, 4, 25, 49]"
      ]
     },
     "execution_count": 43,
     "metadata": {},
     "output_type": "execute_result"
    }
   ],
   "source": [
    "tek_kare_cift2(3,4,5,7)"
   ]
  },
  {
   "cell_type": "markdown",
   "metadata": {},
   "source": [
    "### ** kwargs"
   ]
  },
  {
   "cell_type": "code",
   "execution_count": 44,
   "metadata": {},
   "outputs": [
    {
     "data": {
      "text/plain": [
       "{'name1': 'sedat', 'name2': 'murat', 'name3': 'selin'}"
      ]
     },
     "execution_count": 44,
     "metadata": {},
     "output_type": "execute_result"
    }
   ],
   "source": [
    "dict_1 = {\"name1\": \"sedat\", \"name2\": \"murat\", \"name3\": \"selin\"}\n",
    "dict_1"
   ]
  },
  {
   "cell_type": "code",
   "execution_count": 45,
   "metadata": {},
   "outputs": [],
   "source": [
    "def kwfonksiyonu(** kwargs):\n",
    "\n",
    "    for i,j in kwargs.items():\n",
    "        print(f\"key:{i}, value: {j}\")"
   ]
  },
  {
   "cell_type": "code",
   "execution_count": 46,
   "metadata": {},
   "outputs": [
    {
     "name": "stdout",
     "output_type": "stream",
     "text": [
      "key:name4, value: ahmet\n",
      "key:name5, value: nazim\n"
     ]
    }
   ],
   "source": [
    "kwfonksiyonu(name4 = \"ahmet\", name5 = \"nazim\")\n",
    "# üstteki fonksiyon içerisine iki farklı değer atıyoruz"
   ]
  },
  {
   "cell_type": "code",
   "execution_count": 47,
   "metadata": {},
   "outputs": [
    {
     "ename": "TypeError",
     "evalue": "kwfonksiyonu() takes 0 positional arguments but 1 was given",
     "output_type": "error",
     "traceback": [
      "\u001b[1;31m---------------------------------------------------------------------------\u001b[0m",
      "\u001b[1;31mTypeError\u001b[0m                                 Traceback (most recent call last)",
      "\u001b[1;32mc:\\Users\\sueda\\Desktop\\B223\\functionPositionalKeywordArguments.ipynb Cell 40\u001b[0m line \u001b[0;36m1\n\u001b[1;32m----> <a href='vscode-notebook-cell:/c%3A/Users/sueda/Desktop/B223/functionPositionalKeywordArguments.ipynb#X54sZmlsZQ%3D%3D?line=0'>1</a>\u001b[0m kwfonksiyonu(dict_1) \u001b[39m#kwords olduğu söylemezsen çalışmaz\u001b[39;00m\n",
      "\u001b[1;31mTypeError\u001b[0m: kwfonksiyonu() takes 0 positional arguments but 1 was given"
     ]
    }
   ],
   "source": [
    "kwfonksiyonu(dict_1) #kwords olduğu söylemezsen çalışmaz"
   ]
  },
  {
   "cell_type": "code",
   "execution_count": 48,
   "metadata": {},
   "outputs": [
    {
     "name": "stdout",
     "output_type": "stream",
     "text": [
      "key:name1, value: sedat\n",
      "key:name2, value: murat\n",
      "key:name3, value: selin\n"
     ]
    }
   ],
   "source": [
    "kwfonksiyonu(** dict_1) #belirttik ** kw"
   ]
  },
  {
   "cell_type": "code",
   "execution_count": 49,
   "metadata": {},
   "outputs": [
    {
     "name": "stdout",
     "output_type": "stream",
     "text": [
      "değildir\n"
     ]
    }
   ],
   "source": [
    "#ödev sorusu 2\n",
    "\n",
    "dad = input ( \" Ailenizdeki dad name girin\")\n",
    "mom = input ( \" Ailenizdeki mom name girin\")\n",
    "child = input ( \" Ailenizdeki child name girin\")\n",
    "\n",
    "sessiz_cocuk = \"\"\n",
    "\n",
    "for i in child.lower():\n",
    "    if i not in \"aeiıuüoö\": #sesli harflerin içinde yoksa\n",
    "        sessiz_cocuk += i # eğer sesli harflerın içinde değilse sessz çocuk\n",
    "\n",
    "if len(set(sessiz_cocuk) & set(dad)) > 0 and len(set(sessiz_cocuk) & set(mom)) > 0 and set(sessiz_cocuk).issubset(set(dad) | set(mom)):\n",
    "        print(\"aile süper ailedir\")\n",
    "\n",
    "else:\n",
    "    print(\"değildir\")"
   ]
  }
 ],
 "metadata": {
  "kernelspec": {
   "display_name": "Python 3",
   "language": "python",
   "name": "python3"
  },
  "language_info": {
   "codemirror_mode": {
    "name": "ipython",
    "version": 3
   },
   "file_extension": ".py",
   "mimetype": "text/x-python",
   "name": "python",
   "nbconvert_exporter": "python",
   "pygments_lexer": "ipython3",
   "version": "3.11.5"
  }
 },
 "nbformat": 4,
 "nbformat_minor": 2
}
