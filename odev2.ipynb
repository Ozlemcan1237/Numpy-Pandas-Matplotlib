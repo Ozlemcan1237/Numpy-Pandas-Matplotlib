{
 "cells": [
  {
   "cell_type": "markdown",
   "metadata": {},
   "source": [
    "1 - Kullanıcıdan 1-100 arası bir sayı girmesini isteyin. 1 ile girilen sayı arasındaki çift sayıların toplamımı yazıdran kodu yazın. \n",
    "örn: girilen sayı 15. 1-15 arsı çift sayıların toplamı: 56 "
   ]
  },
  {
   "cell_type": "code",
   "execution_count": 1,
   "metadata": {},
   "outputs": [
    {
     "name": "stdout",
     "output_type": "stream",
     "text": [
      "1-7 arasindaki çift sayilarin toplami: 12\n"
     ]
    }
   ],
   "source": [
    "sayi = int(input(\"Lutfen 1 ile 100 arasinda bir sayi giriniz...\"))\n",
    "\n",
    "if sayi < 1 or sayi > 100:\n",
    "    print(\"Girdiğiniz sayi 1 ile 100 arasinda değil.\")\n",
    "else:\n",
    "    toplam = 0\n",
    "    for i in range(2,sayi + 1, 2):\n",
    "        toplam += i\n",
    "\n",
    "    print(f\"1-{sayi} arasindaki çift sayilarin toplami: {toplam}\")"
   ]
  },
  {
   "cell_type": "markdown",
   "metadata": {},
   "source": [
    "2 - Kullanıcıdan bir sayı alın ve sayıyı tersten yazdırın. örn: 1524 >> 4251"
   ]
  },
  {
   "cell_type": "code",
   "execution_count": 2,
   "metadata": {},
   "outputs": [
    {
     "name": "stdout",
     "output_type": "stream",
     "text": [
      "Girilen sayinin tersi: 5432\n"
     ]
    }
   ],
   "source": [
    "sayi_2 = input(\"Lutfen bir sayi giriniz...\")\n",
    "\n",
    "ters_sayi = sayi_2[::-1]\n",
    "\n",
    "print(\"Girilen sayinin tersi:\", ters_sayi)"
   ]
  },
  {
   "cell_type": "markdown",
   "metadata": {},
   "source": [
    "3 - Kullanıcıdan oluşturacağınız bir listenin eleman sayısını girmesini isteyin. Daha sonra listeye bu sayı kadar eleman eklemesini sağlayan kodu yazın. (örn: liste eleman sayısı 4. Kullanıcının belirlediği 4 elemanlı bir liste döndürülmelidir.) "
   ]
  },
  {
   "cell_type": "code",
   "execution_count": 17,
   "metadata": {},
   "outputs": [
    {
     "name": "stdout",
     "output_type": "stream",
     "text": [
      "Olusturulan liste ['1']\n",
      "Olusturulan liste ['1', '2']\n",
      "Olusturulan liste ['1', '2', '3']\n",
      "Olusturulan liste ['1', '2', '3', '4']\n"
     ]
    }
   ],
   "source": [
    "eleman_sayisi = int(input(\"Liste kac elemanli olsun?...\"))\n",
    "\n",
    "liste1 = []\n",
    "\n",
    "for i in range(eleman_sayisi):\n",
    "    eleman = input(f\"{i+1}. elemani girin: \")\n",
    "    liste1.append(eleman)\n",
    "    \n",
    "    print(\"Olusturulan liste\", liste1)"
   ]
  },
  {
   "cell_type": "markdown",
   "metadata": {},
   "source": [
    "4 - Kullanıcının girdiği sayının asal sayı olup olmadığını bulan kodu yazın."
   ]
  },
  {
   "cell_type": "code",
   "execution_count": 16,
   "metadata": {},
   "outputs": [
    {
     "name": "stdout",
     "output_type": "stream",
     "text": [
      "7 bir asal sayidir.\n"
     ]
    }
   ],
   "source": [
    "sayi_3 = int(input(\"Lutfen bir sayi giriniz...\"))\n",
    "\n",
    "def asal_sayi(n):\n",
    "\n",
    "    if n <= 1:\n",
    "        return False\n",
    "    for i in range(2, int(n**0.5) + 1):\n",
    "        if n % i == 0:\n",
    "            return False\n",
    "    return True\n",
    "\n",
    "if asal_sayi(sayi_3):\n",
    "    print(f\"{sayi_3} bir asal sayidir.\")\n",
    "else:\n",
    "    print(f\"{sayi_3} bir asal sayi değildir.\")"
   ]
  },
  {
   "cell_type": "markdown",
   "metadata": {},
   "source": [
    "5 - Anne, baba ve çocuktan oluşan çekirdek ailenin Süper aile olup olmadığını bulan kodu yazın. isimleri kullanıcıdan isteyin. Çocuğun ismindeki sessiz harflerin hepsi, anne ve babanın isimlerinde var ise bu aile süper ailedir.(Not: anne ve baba isminden en az bir tane olmalı.). örn1: baba adı = \"Halil\", anne adı= \"Merve\", çocuk adı= \"Veli\" >> Süper aile. (\"v\" anneden, \"l\" babadan)\n",
    "örn2: baba adı = \"Murat\", anne adı= \"Songül\", çocuk adı= \"Mert\" >> Süper aile değil. Anneden harf yok."
   ]
  },
  {
   "cell_type": "code",
   "execution_count": 18,
   "metadata": {},
   "outputs": [
    {
     "name": "stdout",
     "output_type": "stream",
     "text": [
      "Bu aile bir Süper Ailedir!\n"
     ]
    }
   ],
   "source": [
    "anne = input(\"Anne adini girin: \")\n",
    "baba = input(\"Baba adini girin: \")\n",
    "cocuk = input(\"Çocuk adini girin: \")\n",
    "\n",
    "sessiz_harfler = \"aeiou\"\n",
    "\n",
    "super_aile = all(sessiz in anne or sessiz in baba for sessiz in cocuk if sessiz in sessiz_harfler)\n",
    "\n",
    "if super_aile:\n",
    "    print(\"Bu aile bir Süper Ailedir!\")\n",
    "else:\n",
    "    print(\"Bu aile bir Süper Aile değildir.\")"
   ]
  }
 ],
 "metadata": {
  "kernelspec": {
   "display_name": "Python 3",
   "language": "python",
   "name": "python3"
  },
  "language_info": {
   "codemirror_mode": {
    "name": "ipython",
    "version": 3
   },
   "file_extension": ".py",
   "mimetype": "text/x-python",
   "name": "python",
   "nbconvert_exporter": "python",
   "pygments_lexer": "ipython3",
   "version": "3.11.5"
  }
 },
 "nbformat": 4,
 "nbformat_minor": 2
}
