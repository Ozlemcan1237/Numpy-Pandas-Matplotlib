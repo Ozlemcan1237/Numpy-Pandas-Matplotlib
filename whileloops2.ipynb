{
 "cells": [
  {
   "cell_type": "code",
   "execution_count": 9,
   "metadata": {},
   "outputs": [],
   "source": [
    "# sayıların tek mi çift mi diye ayıran formül yaz\n",
    "sayilar_listesi = [1,15,2,36,5,89,45,62,52,71,30,56,45,95,61,48]"
   ]
  },
  {
   "cell_type": "code",
   "execution_count": 13,
   "metadata": {},
   "outputs": [
    {
     "name": "stdout",
     "output_type": "stream",
     "text": [
      "tek sayilar listesi : [1, 15, 5, 89, 45, 71, 45, 95, 61]\n",
      "çift sayilar listesi : [2, 36, 62, 52, 30, 56, 48]\n"
     ]
    }
   ],
   "source": [
    "# sayıların tek mi çift mi diye ayıran formül yaz\n",
    "sayilar_listesi = [1,15,2,36,5,89,45,62,52,71,30,56,45,95,61,48]\n",
    "\n",
    "odds = [] # tekler\n",
    "\n",
    "evens = [] # çiftler\n",
    "\n",
    "x = 0\n",
    "\n",
    "while x < len(sayilar_listesi): # sıfırncı indexten başlakyıp son indexe kadar git\n",
    "\n",
    "    if sayilar_listesi[x] % 2 == 0: # ikiye bölümünden kalan sıfırsa çift\n",
    "        evens.append(sayilar_listesi[x])  # listedeki çiftler\n",
    "\n",
    "    else:\n",
    "        odds.append(sayilar_listesi[x])   # listedeki tekler\n",
    "\n",
    "\n",
    "    x += 1 # ilk olarak sonsuzluktan kurtarıyoruz. sonrasında içine kodalrı yazmaya başla.\n",
    "print(f\"tek sayilar listesi : {odds}\") # str ifadenin başına koy \"f\"\n",
    "print(f\"çift sayilar listesi : {evens}\")"
   ]
  },
  {
   "cell_type": "code",
   "execution_count": 14,
   "metadata": {},
   "outputs": [
    {
     "name": "stdout",
     "output_type": "stream",
     "text": [
      "tek sayilar listesi : {odds}\n",
      "çift sayilar listesi : {evens}\n"
     ]
    }
   ],
   "source": [
    "# sayıların tek mi çift mi diye ayıran formül yaz\n",
    "sayilar_listesi = [1,15,2,36,5,89,45,62,52,71,30,56,45,95,61,48]\n",
    "\n",
    "odds = [] # tekler\n",
    "\n",
    "evens = [] # çiftler\n",
    "\n",
    "x = 0\n",
    "\n",
    "while x < len(sayilar_listesi): # sıfırncı indexten başlakyıp son indexe kadar git\n",
    "\n",
    "    if sayilar_listesi[x] % 2 == 0: # ikiye bölümünden kalan sıfırsa çift\n",
    "        evens.append(sayilar_listesi[x])  # listedeki çiftler\n",
    "\n",
    "    else:\n",
    "        odds.append(sayilar_listesi[x])   # listedeki tekler\n",
    "\n",
    "\n",
    "    x += 1 # ilk olarak sonsuzluktan kurtarıyoruz. sonrasında içine kodalrı yazmaya başla.\n",
    "print(\"tek sayilar listesi : {odds}\") # başındaki f harfini silersek stringe dönüşür\n",
    "print(\"çift sayilar listesi : {evens}\") # içerisne yazdığın kodları almaz"
   ]
  },
  {
   "cell_type": "code",
   "execution_count": 15,
   "metadata": {},
   "outputs": [
    {
     "name": "stdout",
     "output_type": "stream",
     "text": [
      "tek sayilar listesi : [1, 15, 5, 89, 45, 71, 45, 95, 61]\n",
      "çift sayilar listesi : [2, 36, 62, 52, 30, 56, 48]\n"
     ]
    }
   ],
   "source": [
    "# sayıların tek mi çift mi diye ayıran formül yaz\n",
    "sayilar_listesi = [1,15,2,36,5,89,45,62,52,71,30,56,45,95,61,48]\n",
    "\n",
    "odds = [] # tekler\n",
    "\n",
    "evens = [] # çiftler\n",
    "\n",
    "x = 0\n",
    "\n",
    "while x < len(sayilar_listesi): # sıfırncı indexten başlakyıp son indexe kadar git\n",
    "\n",
    "    if sayilar_listesi[x] % 2 == 0: # ikiye bölümünden kalan sıfırsa çift\n",
    "        evens.append(sayilar_listesi[x])  # listedeki çiftler\n",
    "\n",
    "    else:\n",
    "        odds.append(sayilar_listesi[x])   # listedeki tekler\n",
    "\n",
    "\n",
    "    x += 1 # ilk olarak sonsuzluktan kurtarıyoruz. sonrasında içine kodalrı yazmaya başla.\n",
    "print(\"tek sayilar listesi : {}\" .format(odds)) # başındaki f harfini silersek stringe dönüşür\n",
    "print(\"çift sayilar listesi : {}\" .format(evens)) # içerisne yazdığın kodları almaz"
   ]
  },
  {
   "cell_type": "code",
   "execution_count": 16,
   "metadata": {},
   "outputs": [
    {
     "name": "stdout",
     "output_type": "stream",
     "text": [
      "tek sayilar listesi: [1, 15, 5, 89, 45, 71, 45, 95, 61]. bu liste 9 elemanlidir \n",
      "çift sayilar listesi: [2, 36, 62, 52, 30, 56, 48]. bu liste 7 elemanlidir\n"
     ]
    }
   ],
   "source": [
    "# sayıların tek mi çift mi diye ayıran formül yaz\n",
    "sayilar_listesi = [1,15,2,36,5,89,45,62,52,71,30,56,45,95,61,48]\n",
    "\n",
    "odds = [] # tekler\n",
    "\n",
    "evens = [] # çiftler\n",
    "\n",
    "x = 0\n",
    "\n",
    "while x < len(sayilar_listesi): # sıfırncı indexten başlakyıp son indexe kadar git\n",
    "\n",
    "    if sayilar_listesi[x] % 2 == 0: # ikiye bölümünden kalan sıfırsa çift\n",
    "        evens.append(sayilar_listesi[x])  # listedeki çiftler\n",
    "\n",
    "    else:\n",
    "        odds.append(sayilar_listesi[x])   # listedeki tekler\n",
    "\n",
    "\n",
    "    x += 1 # ilk olarak sonsuzluktan kurtarıyoruz. sonrasında içine kodalrı yazmaya başla.\n",
    "print(\"tek sayilar listesi: {}. bu liste {} elemanlidir \".format(odds, len(odds))) # eleman sayısı ile print etme\n",
    "print(\"çift sayilar listesi: {}. bu liste {} elemanlidir\".format(evens, len(evens)))"
   ]
  },
  {
   "cell_type": "code",
   "execution_count": 17,
   "metadata": {},
   "outputs": [
    {
     "data": {
      "text/plain": [
       "[1, 15, 5, 89, 45, 71, 45, 95, 61]"
      ]
     },
     "execution_count": 17,
     "metadata": {},
     "output_type": "execute_result"
    }
   ],
   "source": [
    "odds"
   ]
  },
  {
   "cell_type": "code",
   "execution_count": 18,
   "metadata": {},
   "outputs": [],
   "source": [
    "odds.sort()\n",
    "# hiç bir şey output olmaz NONE yani\n",
    "# liste küçükten büyüğe sıralanır ancak output olmaz."
   ]
  },
  {
   "cell_type": "code",
   "execution_count": 19,
   "metadata": {},
   "outputs": [
    {
     "data": {
      "text/plain": [
       "[1, 5, 15, 45, 45, 61, 71, 89, 95]"
      ]
     },
     "execution_count": 19,
     "metadata": {},
     "output_type": "execute_result"
    }
   ],
   "source": [
    "odds"
   ]
  },
  {
   "cell_type": "code",
   "execution_count": 20,
   "metadata": {},
   "outputs": [
    {
     "name": "stdout",
     "output_type": "stream",
     "text": [
      "tek sayilar listesi : [1, 5, 15, 45, 45, 61, 71, 89, 95]\n",
      "çift sayilar listesi : [2, 30, 36, 48, 52, 56, 62]\n"
     ]
    }
   ],
   "source": [
    "sayilar_listesi = [1,15,2,36,5,89,45,62,52,71,30,56,45,95,61,48]\n",
    "\n",
    "odds = []\n",
    "\n",
    "evens = [] \n",
    "\n",
    "x = 0\n",
    "\n",
    "while x < len(sayilar_listesi): \n",
    "\n",
    "    if sayilar_listesi[x] % 2 == 0: \n",
    "        evens.append(sayilar_listesi[x])  \n",
    "\n",
    "    else:\n",
    "        odds.append(sayilar_listesi[x])   \n",
    "\n",
    "\n",
    "    x += 1 \n",
    "    odds.sort()\n",
    "    evens.sort()\n",
    "print(f\"tek sayilar listesi : {odds}\") \n",
    "print(f\"çift sayilar listesi : {evens}\")"
   ]
  },
  {
   "cell_type": "code",
   "execution_count": 21,
   "metadata": {},
   "outputs": [
    {
     "name": "stdout",
     "output_type": "stream",
     "text": [
      "Giriğiniz sayi 60. Tahminini Azalt\n",
      "Giriğiniz sayi 56. Tahminini Azalt\n",
      "Giriğiniz sayi 54. Bulamana ÇOK AZ kaldi!!!\n",
      "Giriğiniz sayi 55. DOĞRU TAHMİN ETTİNİZ!!!\n"
     ]
    }
   ],
   "source": [
    "# sayı tahmin oyunu 1-100 arası. azalt veya artır komutu ver. doğru sayı bulana kadar çalıştır.\n",
    "# ilk etapta sayı 55 olsun\n",
    "\n",
    "sayi = 55\n",
    "\n",
    "while True: # döngü sürekli dönsün\n",
    "\n",
    "    tahmin = int(input(\"Aklimdaki sayiyi tahmin edin\"))\n",
    "\n",
    "    if sayi < tahmin:\n",
    "        print(f\"Giriğiniz sayi {tahmin}. Tahminini Azalt\")\n",
    "\n",
    "    elif tahmin == 54: # kendim ekleme yaptım soruya\n",
    "        print(f\"Giriğiniz sayi {tahmin}. Bulamana ÇOK AZ kaldi!!!\")\n",
    "\n",
    "    elif sayi > tahmin:\n",
    "        print(f\"Giriğiniz sayi {tahmin}. Tahminini Artir\")\n",
    "\n",
    "\n",
    "    else:\n",
    "        print(f\"Giriğiniz sayi {tahmin}. DOĞRU TAHMİN ETTİNİZ!!!\")\n",
    "        break # else kısmı çalışırsa break kodu durdur."
   ]
  },
  {
   "cell_type": "code",
   "execution_count": 24,
   "metadata": {},
   "outputs": [
    {
     "name": "stdout",
     "output_type": "stream",
     "text": [
      "Giriğiniz sayi 67. Tahminini Azalt\n",
      "Giriğiniz sayi 23. Tahminini Artir\n",
      "Giriğiniz sayi 55. 3 kerede bildiniz. TEBRIKLER!!!\n"
     ]
    }
   ],
   "source": [
    "sayi = 55\n",
    "sayac = 0\n",
    "\n",
    "while True: # döngü sürekli dönsün\n",
    "\n",
    "    sayac += 1 # her dongu calistiginda sayac 1 artar\n",
    "    tahmin = int(input(\"Aklimdaki sayiyi tahmin edin\"))\n",
    "\n",
    "    if sayi < tahmin:\n",
    "        print(f\"Giriğiniz sayi {tahmin}. Tahminini Azalt\")\n",
    "\n",
    "    elif tahmin == 54: # kendim ekleme yaptım soruya\n",
    "        print(f\"Giriğiniz sayi {tahmin}. Bulamana ÇOK AZ kaldi!!!\")\n",
    "\n",
    "    elif sayi > tahmin:\n",
    "        print(f\"Giriğiniz sayi {tahmin}. Tahminini Artir\")\n",
    "\n",
    "\n",
    "    else:\n",
    "        print(f\"Giriğiniz sayi {tahmin}. {sayac} kerede bildiniz. TEBRIKLER!!!\")\n",
    "        break"
   ]
  },
  {
   "cell_type": "code",
   "execution_count": 26,
   "metadata": {},
   "outputs": [
    {
     "name": "stdout",
     "output_type": "stream",
     "text": [
      "Giriğiniz sayi 22. Tahminini Artir\n",
      "Giriğiniz sayi 33. Tahminini Artir\n",
      "Giriğiniz sayi 44. Tahminini Artir\n",
      "Giriğiniz sayi 66. Tahminini Azalt\n",
      "Giriğiniz sayi 77. Tahminini Azalt\n",
      "5 Hakkin bitti : Aklimdaki sayi 55 ti...\n"
     ]
    }
   ],
   "source": [
    "sayi = 55\n",
    "sayac = 0\n",
    "\n",
    "while True: # döngü sürekli dönsün\n",
    "    sayac += 1\n",
    "    tahmin = int(input(\"Aklimdaki sayiyi tahmin edin\"))\n",
    "\n",
    "    if sayi < tahmin:\n",
    "        print(f\"Giriğiniz sayi {tahmin}. Tahminini Azalt\")\n",
    "\n",
    "    elif tahmin == 54: # kendim ekleme yaptım soruya\n",
    "        print(f\"Giriğiniz sayi {tahmin}. Bulamana ÇOK AZ kaldi!!!\")\n",
    "\n",
    "    elif sayi > tahmin:\n",
    "        print(f\"Giriğiniz sayi {tahmin}. Tahminini Artir\")\n",
    "\n",
    "\n",
    "    else:\n",
    "        print(f\"Giriğiniz sayi {tahmin}. {sayac} kerede bildiniz. TEBRIKLER!!!\")\n",
    "        break\n",
    "\n",
    "    if sayac == 5:\n",
    "        print(f\"5 Hakkin bitti : Aklimdaki sayi {sayi} ti...\")\n",
    "        break"
   ]
  },
  {
   "cell_type": "markdown",
   "metadata": {},
   "source": [
    "### Random model"
   ]
  },
  {
   "cell_type": "code",
   "execution_count": null,
   "metadata": {},
   "outputs": [],
   "source": [
    "# import random as rd  # as yeniden isim vermeye yarar"
   ]
  },
  {
   "cell_type": "code",
   "execution_count": 27,
   "metadata": {},
   "outputs": [],
   "source": [
    "import random"
   ]
  },
  {
   "cell_type": "code",
   "execution_count": 28,
   "metadata": {},
   "outputs": [
    {
     "data": {
      "text/plain": [
       "0.8641898897483061"
      ]
     },
     "execution_count": 28,
     "metadata": {},
     "output_type": "execute_result"
    }
   ],
   "source": [
    "random.random() # 0 ile 1 arasinda sayi uretir"
   ]
  },
  {
   "cell_type": "code",
   "execution_count": 29,
   "metadata": {},
   "outputs": [
    {
     "data": {
      "text/plain": [
       "0.376962302390386"
      ]
     },
     "execution_count": 29,
     "metadata": {},
     "output_type": "execute_result"
    }
   ],
   "source": [
    "random.seed(25)  # seed aynı değer output yapma. başka insanlarla aynı output olur. Baslangic belirliyoruz.\n",
    "random.random()"
   ]
  },
  {
   "cell_type": "code",
   "execution_count": 31,
   "metadata": {},
   "outputs": [
    {
     "data": {
      "text/plain": [
       "3"
      ]
     },
     "execution_count": 31,
     "metadata": {},
     "output_type": "execute_result"
    }
   ],
   "source": [
    "random.randint(2,5)  # int değer döndürür. [a,b] de dahil."
   ]
  },
  {
   "cell_type": "code",
   "execution_count": 32,
   "metadata": {},
   "outputs": [
    {
     "name": "stdout",
     "output_type": "stream",
     "text": [
      "Giriğiniz sayi 45. Tahminini Azalt\n",
      "Giriğiniz sayi 34. Tahminini Artir\n",
      "Giriğiniz sayi 43. Tahminini Azalt\n",
      "Giriğiniz sayi 41. Tahminini Azalt\n",
      "Giriğiniz sayi 37. Tahminini Artir\n",
      "Giriğiniz sayi 39. Tahminini Artir\n",
      "Giriğiniz sayi 40. 7 kerede bildiniz. TEBRIKLER!!!\n"
     ]
    }
   ],
   "source": [
    "import random\n",
    "sayi = random.randint(1,100)\n",
    "sayac = 0\n",
    "\n",
    "while True: # döngü sürekli dönsün\n",
    "    sayac += 1\n",
    "    tahmin = int(input(\"Aklimdaki sayiyi tahmin edin\"))\n",
    "\n",
    "    if sayi < tahmin:\n",
    "        print(f\"Giriğiniz sayi {tahmin}. Tahminini Azalt\")\n",
    "\n",
    "    elif tahmin == 54: # kendim ekleme yaptım soruya\n",
    "        print(f\"Giriğiniz sayi {tahmin}. Bulamana ÇOK AZ kaldi!!!\")\n",
    "\n",
    "    elif sayi > tahmin:\n",
    "        print(f\"Giriğiniz sayi {tahmin}. Tahminini Artir\")\n",
    "\n",
    "\n",
    "    else:\n",
    "        print(f\"Giriğiniz sayi {tahmin}. {sayac} kerede bildiniz. TEBRIKLER!!!\")\n",
    "        break\n",
    "\n",
    "    if sayac == 7:\n",
    "        print(f\"7 Hakkin bitti : Aklimdaki sayi {sayi} idi...\")\n",
    "        break"
   ]
  },
  {
   "cell_type": "code",
   "execution_count": 33,
   "metadata": {},
   "outputs": [
    {
     "name": "stdout",
     "output_type": "stream",
     "text": [
      "Giriğiniz sayi 35. Tahminini Artir\n",
      "Giriğiniz sayi 45. Tahminini Artir\n",
      "Giriğiniz sayi 48. Tahminini Artir\n",
      "Giriğiniz sayi 66. Tahminini Artir\n",
      "Giriğiniz sayi 88. Tahminini Azalt\n",
      "Giriğiniz sayi 77. Tahminini Artir\n",
      "Giriğiniz sayi 80. Tahminini Artir\n",
      "7 Hakkin bitti : Aklimdaki sayi 82 idi...\n"
     ]
    }
   ],
   "source": [
    "import random\n",
    "import time\n",
    "sayi = random.randint(1,100)\n",
    "sayac = 0\n",
    "\n",
    "while True: # döngü sürekli dönsün\n",
    "    sayac += 1\n",
    "    tahmin = int(input(\"Aklimdaki sayiyi tahmin edin\"))\n",
    "\n",
    "    time.sleep(2)\n",
    "\n",
    "    if sayi < tahmin:\n",
    "        print(f\"Giriğiniz sayi {tahmin}. Tahminini Azalt\")\n",
    "\n",
    "    elif tahmin == 54: # kendim ekleme yaptım soruya\n",
    "        print(f\"Giriğiniz sayi {tahmin}. Bulamana ÇOK AZ kaldi!!!\")\n",
    "\n",
    "    elif sayi > tahmin:\n",
    "        print(f\"Giriğiniz sayi {tahmin}. Tahminini Artir\")\n",
    "\n",
    "\n",
    "    else:\n",
    "        print(f\"Giriğiniz sayi {tahmin}. {sayac} kerede bildiniz. TEBRIKLER!!!\")\n",
    "        break\n",
    "\n",
    "    time.sleep(2)\n",
    "\n",
    "    if sayac == 7:\n",
    "        print(f\"7 Hakkin bitti : Aklimdaki sayi {sayi} idi...\")\n",
    "        break\n",
    "    time.sleep(2)"
   ]
  },
  {
   "cell_type": "markdown",
   "metadata": {},
   "source": [
    "### min(), max()"
   ]
  },
  {
   "cell_type": "code",
   "execution_count": 34,
   "metadata": {},
   "outputs": [],
   "source": [
    "liste_1 = [1,4,6,85,23,65,47,32,91]"
   ]
  },
  {
   "cell_type": "code",
   "execution_count": 35,
   "metadata": {},
   "outputs": [
    {
     "data": {
      "text/plain": [
       "1"
      ]
     },
     "execution_count": 35,
     "metadata": {},
     "output_type": "execute_result"
    }
   ],
   "source": [
    "min(liste_1)"
   ]
  },
  {
   "cell_type": "code",
   "execution_count": 36,
   "metadata": {},
   "outputs": [
    {
     "data": {
      "text/plain": [
       "91"
      ]
     },
     "execution_count": 36,
     "metadata": {},
     "output_type": "execute_result"
    }
   ],
   "source": [
    "max(liste_1)"
   ]
  },
  {
   "cell_type": "code",
   "execution_count": 37,
   "metadata": {},
   "outputs": [],
   "source": [
    "liste_2 = [1,4,6,85,23,65,47,-65,-42,32,91]"
   ]
  },
  {
   "cell_type": "code",
   "execution_count": 38,
   "metadata": {},
   "outputs": [
    {
     "data": {
      "text/plain": [
       "-65"
      ]
     },
     "execution_count": 38,
     "metadata": {},
     "output_type": "execute_result"
    }
   ],
   "source": [
    "min(liste_2)"
   ]
  },
  {
   "cell_type": "code",
   "execution_count": 39,
   "metadata": {},
   "outputs": [
    {
     "data": {
      "text/plain": [
       "'computer'"
      ]
     },
     "execution_count": 39,
     "metadata": {},
     "output_type": "execute_result"
    }
   ],
   "source": [
    "min([\"sedat\", \"computer\"])"
   ]
  },
  {
   "cell_type": "code",
   "execution_count": null,
   "metadata": {},
   "outputs": [],
   "source": [
    "# listenin en küçük elemamı nedir ( min ve sort kullanma)\n",
    "# önce bütün elemanlarına ulaş\n",
    "# listenin ilk elemanına ne olduğuna bakmadan min sayı oluştur\n",
    "\n",
    "liste_1 = [4,6,85,1,23,65,47,32,91]\n",
    "\n",
    "x = 0\n",
    "\n",
    "while x < len(liste_1):\n",
    "\n",
    "\n",
    "\n",
    "\n",
    "    x += 1\n",
    "\n",
    "    # kalıp bu ilk önce hep böyle başla sonra alttaki şekilde yaz"
   ]
  },
  {
   "cell_type": "code",
   "execution_count": 40,
   "metadata": {},
   "outputs": [
    {
     "name": "stdout",
     "output_type": "stream",
     "text": [
      "1\n"
     ]
    }
   ],
   "source": [
    "liste_1 = [4,6,85,1,23,65,47,32,91]\n",
    "\n",
    "x = 0\n",
    "\n",
    "min_sayi = liste_1[0] # listenin içerisinden sıfıra min dedik sallamasyon\n",
    "\n",
    "while x < len(liste_1):\n",
    "\n",
    "    if min_sayi > liste_1[x]: # min sayı listenin herhangi elemanondan büyükse daha küçük sayı var demektir\n",
    "        min_sayi = liste_1[x]\n",
    "\n",
    "\n",
    "    x += 1\n",
    "\n",
    "print(min_sayi)"
   ]
  }
 ],
 "metadata": {
  "language_info": {
   "name": "python"
  }
 },
 "nbformat": 4,
 "nbformat_minor": 2
}
