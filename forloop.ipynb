{
 "cells": [
  {
   "cell_type": "markdown",
   "metadata": {},
   "source": [
    "## LOOPS"
   ]
  },
  {
   "cell_type": "markdown",
   "metadata": {},
   "source": [
    "### for"
   ]
  },
  {
   "cell_type": "markdown",
   "metadata": {},
   "source": [
    "for i in iterable:   sadece iterable ile calisir\n",
    "    bady"
   ]
  },
  {
   "cell_type": "code",
   "execution_count": 1,
   "metadata": {},
   "outputs": [
    {
     "name": "stdout",
     "output_type": "stream",
     "text": [
      "c\n",
      "o\n",
      "m\n",
      "p\n",
      "u\n",
      "t\n",
      "e\n",
      "r\n"
     ]
    }
   ],
   "source": [
    "for i in \"computer\":\n",
    "    print(i)"
   ]
  },
  {
   "cell_type": "code",
   "execution_count": 2,
   "metadata": {},
   "outputs": [
    {
     "name": "stdout",
     "output_type": "stream",
     "text": [
      "1\n",
      "4\n",
      "9\n",
      "16\n",
      "25\n"
     ]
    }
   ],
   "source": [
    "# elemanlarin karesini bulalim\n",
    "\n",
    "for i in [1,2,3,4,5]:\n",
    "    print(i ** 2)"
   ]
  },
  {
   "cell_type": "code",
   "execution_count": 3,
   "metadata": {},
   "outputs": [
    {
     "name": "stdout",
     "output_type": "stream",
     "text": [
      "1\n",
      "4\n",
      "9\n",
      "16\n",
      "25\n"
     ]
    }
   ],
   "source": [
    "# aynisini while ile yapalim\n",
    "\n",
    "liste = [1,2,3,4,5]\n",
    "\n",
    "x = 0\n",
    "\n",
    "while x < len(liste):\n",
    "\n",
    "    print(liste[x] ** 2)\n",
    "\n",
    "    x += 1"
   ]
  },
  {
   "cell_type": "code",
   "execution_count": 4,
   "metadata": {},
   "outputs": [
    {
     "name": "stdout",
     "output_type": "stream",
     "text": [
      "1\n",
      "4\n",
      "9\n",
      "16\n",
      "25\n"
     ]
    }
   ],
   "source": [
    "# tuple ile\n",
    "\n",
    "for i in (1,2,3,4,5):\n",
    "    print(i ** 2)"
   ]
  },
  {
   "cell_type": "code",
   "execution_count": 5,
   "metadata": {},
   "outputs": [
    {
     "ename": "TypeError",
     "evalue": "'int' object is not iterable",
     "output_type": "error",
     "traceback": [
      "\u001b[1;31m---------------------------------------------------------------------------\u001b[0m",
      "\u001b[1;31mTypeError\u001b[0m                                 Traceback (most recent call last)",
      "\u001b[1;32mc:\\Users\\sueda\\Desktop\\B223\\forloop.ipynb Cell 8\u001b[0m line \u001b[0;36m1\n\u001b[1;32m----> <a href='vscode-notebook-cell:/c%3A/Users/sueda/Desktop/B223/forloop.ipynb#Y102sZmlsZQ%3D%3D?line=0'>1</a>\u001b[0m \u001b[39mfor\u001b[39;00m i \u001b[39min\u001b[39;00m \u001b[39m1536\u001b[39m:  \u001b[39m# int iterable olmadigindan hata verir\u001b[39;00m\n\u001b[0;32m      <a href='vscode-notebook-cell:/c%3A/Users/sueda/Desktop/B223/forloop.ipynb#Y102sZmlsZQ%3D%3D?line=1'>2</a>\u001b[0m     \u001b[39mprint\u001b[39m(i \u001b[39m*\u001b[39m\u001b[39m*\u001b[39m \u001b[39m2\u001b[39m)\n",
      "\u001b[1;31mTypeError\u001b[0m: 'int' object is not iterable"
     ]
    }
   ],
   "source": [
    "for i in 1536:  # int iterable olmadigindan hata verir\n",
    "    print(i ** 2)"
   ]
  },
  {
   "cell_type": "code",
   "execution_count": 6,
   "metadata": {},
   "outputs": [
    {
     "name": "stdout",
     "output_type": "stream",
     "text": [
      "Ahmet\n",
      "Nazim\n",
      "Ali\n",
      "Omer\n"
     ]
    }
   ],
   "source": [
    "for i in [\"ahmet\", \"nazim\", \"ali\", \"omer\"]:  # ilk harflerini buyuk harfe cevirelim\n",
    "    print(i.capitalize())"
   ]
  },
  {
   "cell_type": "code",
   "execution_count": 7,
   "metadata": {},
   "outputs": [
    {
     "name": "stdout",
     "output_type": "stream",
     "text": [
      "Ahmet*Nazim*Ali*Omer*"
     ]
    }
   ],
   "source": [
    "for i in [\"ahmet\", \"nazim\", \"ali\", \"omer\"]:\n",
    "        print(i.capitalize(),end=\"*\")"
   ]
  },
  {
   "cell_type": "markdown",
   "metadata": {},
   "source": [
    "\"Computer\" \n",
    "\n",
    "\"C-o-m-p-u-t-e-r\""
   ]
  },
  {
   "cell_type": "code",
   "execution_count": 1,
   "metadata": {},
   "outputs": [
    {
     "name": "stdout",
     "output_type": "stream",
     "text": [
      "C-o-m-p-u-t-e-r-"
     ]
    }
   ],
   "source": [
    "for i in \"Computer\":\n",
    "        print((i), end = \"-\")"
   ]
  },
  {
   "cell_type": "code",
   "execution_count": 4,
   "metadata": {},
   "outputs": [],
   "source": [
    "empty_str = \"\"\n",
    "\n",
    "for i in \"computer\":\n",
    "    empty_str += i + \"-\"\n",
    "    empty_str.strip(\"-\")"
   ]
  },
  {
   "cell_type": "code",
   "execution_count": 5,
   "metadata": {},
   "outputs": [
    {
     "data": {
      "text/plain": [
       "'computer'"
      ]
     },
     "execution_count": 5,
     "metadata": {},
     "output_type": "execute_result"
    }
   ],
   "source": [
    "\"\".join(\"computer\") "
   ]
  },
  {
   "cell_type": "code",
   "execution_count": 6,
   "metadata": {},
   "outputs": [
    {
     "data": {
      "text/plain": [
       "'c-o-m-p-u-t-e-r'"
      ]
     },
     "execution_count": 6,
     "metadata": {},
     "output_type": "execute_result"
    }
   ],
   "source": [
    "\"-\".join(\"computer\")  # donguyle ugrasmak yerine join tek satirda halletti"
   ]
  },
  {
   "cell_type": "code",
   "execution_count": 24,
   "metadata": {},
   "outputs": [
    {
     "data": {
      "text/plain": [
       "{'name': 'Yusuf', 'surname': 'Ahmet', 'age': 25}"
      ]
     },
     "execution_count": 24,
     "metadata": {},
     "output_type": "execute_result"
    }
   ],
   "source": [
    "dict_1 = {\"name\": \"Yusuf\", \"surname\": \"Ahmet\", \"age\": 25}\n",
    "dict_1"
   ]
  },
  {
   "cell_type": "code",
   "execution_count": 25,
   "metadata": {},
   "outputs": [
    {
     "name": "stdout",
     "output_type": "stream",
     "text": [
      "name\n",
      "surname\n",
      "age\n"
     ]
    }
   ],
   "source": [
    "for i in dict_1:\n",
    "    print(i)\n",
    "    # for dongusu dict keyleriyle calisir\n",
    "    # otomatik olarak keylerle calistigi icin .key demeye gerek yok"
   ]
  },
  {
   "cell_type": "code",
   "execution_count": 26,
   "metadata": {},
   "outputs": [
    {
     "data": {
      "text/plain": [
       "dict_values(['Yusuf', 'Ahmet', 25])"
      ]
     },
     "execution_count": 26,
     "metadata": {},
     "output_type": "execute_result"
    }
   ],
   "source": [
    "dict_1.values()"
   ]
  },
  {
   "cell_type": "code",
   "execution_count": 27,
   "metadata": {},
   "outputs": [
    {
     "name": "stdout",
     "output_type": "stream",
     "text": [
      "Yusuf\n",
      "Ahmet\n",
      "25\n"
     ]
    }
   ],
   "source": [
    "for i in dict_1.values():\n",
    "    print(i)\n",
    "    # keylere karsilik gelen value lari gosterdik"
   ]
  },
  {
   "cell_type": "code",
   "execution_count": 28,
   "metadata": {},
   "outputs": [
    {
     "data": {
      "text/plain": [
       "dict_items([('name', 'Yusuf'), ('surname', 'Ahmet'), ('age', 25)])"
      ]
     },
     "execution_count": 28,
     "metadata": {},
     "output_type": "execute_result"
    }
   ],
   "source": [
    "dict_1.items()"
   ]
  },
  {
   "cell_type": "code",
   "execution_count": 13,
   "metadata": {},
   "outputs": [
    {
     "name": "stdout",
     "output_type": "stream",
     "text": [
      "('name', 'Yusuf')\n",
      "('surname', 'Ahmet')\n",
      "('age', 25)\n"
     ]
    }
   ],
   "source": [
    "for i in dict_1.items():\n",
    "    print(i)"
   ]
  },
  {
   "cell_type": "code",
   "execution_count": 14,
   "metadata": {},
   "outputs": [
    {
     "name": "stdout",
     "output_type": "stream",
     "text": [
      "key: name, value: Yusuf\n",
      "key: surname, value: Ahmet\n",
      "key: age, value: 25\n"
     ]
    }
   ],
   "source": [
    "for i, j in dict_1.items():\n",
    "    print(f\"key: {i}, value: {j}\")\n",
    "\n",
    "    # i ye name, j ye value lar gelecek\n",
    "    # iki farkli degiskeni de atiyabildik"
   ]
  },
  {
   "cell_type": "code",
   "execution_count": 29,
   "metadata": {},
   "outputs": [
    {
     "name": "stdout",
     "output_type": "stream",
     "text": [
      "key: name      , value: Yusuf\n",
      "key: surname   , value: Ahmet\n",
      "key: age       , value: 25\n"
     ]
    }
   ],
   "source": [
    "for i, j in dict_1.items():\n",
    "    print(f\"key: {i:<10}, value: {j}\")\n",
    "    # 10 karakterlik alan ac elemani sola yasla demek"
   ]
  },
  {
   "cell_type": "code",
   "execution_count": 30,
   "metadata": {},
   "outputs": [
    {
     "name": "stdout",
     "output_type": "stream",
     "text": [
      "key:       name, value: Yusuf\n",
      "key:    surname, value: Ahmet\n",
      "key:        age, value: 25\n"
     ]
    }
   ],
   "source": [
    "for i, j in dict_1.items():\n",
    "    print(f\"key: {i:>10}, value: {j}\")\n",
    "    # 10 karakterlik alan ac elemani saga yasla demek"
   ]
  },
  {
   "cell_type": "code",
   "execution_count": 31,
   "metadata": {},
   "outputs": [
    {
     "name": "stdout",
     "output_type": "stream",
     "text": [
      "key:    name   , value:   Yusuf   \n",
      "key:  surname  , value:   Ahmet   \n",
      "key:    age    , value:     25    \n"
     ]
    }
   ],
   "source": [
    "for i , j in dict_1.items():\n",
    "    print(f\"key: {i:^10}, value: {j:^10}\")\n",
    "    # 10 karakterlik alan ac elemani ortala demek"
   ]
  },
  {
   "cell_type": "code",
   "execution_count": 7,
   "metadata": {},
   "outputs": [
    {
     "name": "stdout",
     "output_type": "stream",
     "text": [
      "ali data_scientist 26\n",
      "veli developer 28\n"
     ]
    }
   ],
   "source": [
    "for i,j,k in [(\"ali\", \"data_scientist\", 26), (\"veli\", \"developer\", 28)]:\n",
    "    print(i,j,k)"
   ]
  },
  {
   "cell_type": "code",
   "execution_count": 8,
   "metadata": {},
   "outputs": [
    {
     "name": "stdout",
     "output_type": "stream",
     "text": [
      "i:ali,j:data_scientist,k:26\n",
      "i:veli,j:developer,k:28\n"
     ]
    }
   ],
   "source": [
    "for i,j,k in [(\"ali\", \"data_scientist\", 26), (\"veli\", \"developer\", 28)]:\n",
    "    print(f\"i:{i},j:{j},k:{k}\")"
   ]
  },
  {
   "cell_type": "code",
   "execution_count": 32,
   "metadata": {},
   "outputs": [
    {
     "name": "stdout",
     "output_type": "stream",
     "text": [
      "i:ali,j:data_scientist,k:26\n"
     ]
    },
    {
     "ename": "ValueError",
     "evalue": "not enough values to unpack (expected 3, got 2)",
     "output_type": "error",
     "traceback": [
      "\u001b[1;31m---------------------------------------------------------------------------\u001b[0m",
      "\u001b[1;31mValueError\u001b[0m                                Traceback (most recent call last)",
      "\u001b[1;32mc:\\Users\\sueda\\Desktop\\B223\\forloop.ipynb Cell 18\u001b[0m line \u001b[0;36m1\n\u001b[1;32m----> <a href='vscode-notebook-cell:/c%3A/Users/sueda/Desktop/B223/forloop.ipynb#X23sZmlsZQ%3D%3D?line=0'>1</a>\u001b[0m \u001b[39mfor\u001b[39;00m i , j, k \u001b[39min\u001b[39;00m [(\u001b[39m\"\u001b[39m\u001b[39mali\u001b[39m\u001b[39m\"\u001b[39m, \u001b[39m\"\u001b[39m\u001b[39mdata_scientist\u001b[39m\u001b[39m\"\u001b[39m, \u001b[39m26\u001b[39m), (\u001b[39m\"\u001b[39m\u001b[39mveli\u001b[39m\u001b[39m\"\u001b[39m, \u001b[39m\"\u001b[39m\u001b[39mdeveloper\u001b[39m\u001b[39m\"\u001b[39m)]:\n\u001b[0;32m      <a href='vscode-notebook-cell:/c%3A/Users/sueda/Desktop/B223/forloop.ipynb#X23sZmlsZQ%3D%3D?line=1'>2</a>\u001b[0m     \u001b[39mprint\u001b[39m(\u001b[39mf\u001b[39m\u001b[39m\"\u001b[39m\u001b[39mi:\u001b[39m\u001b[39m{\u001b[39;00mi\u001b[39m}\u001b[39;00m\u001b[39m,j:\u001b[39m\u001b[39m{\u001b[39;00mj\u001b[39m}\u001b[39;00m\u001b[39m,k:\u001b[39m\u001b[39m{\u001b[39;00mk\u001b[39m}\u001b[39;00m\u001b[39m\"\u001b[39m)\n\u001b[0;32m      <a href='vscode-notebook-cell:/c%3A/Users/sueda/Desktop/B223/forloop.ipynb#X23sZmlsZQ%3D%3D?line=2'>3</a>\u001b[0m     \u001b[39m# ikinci verilerde eksiklik oldugundan hata verdi\u001b[39;00m\n",
      "\u001b[1;31mValueError\u001b[0m: not enough values to unpack (expected 3, got 2)"
     ]
    }
   ],
   "source": [
    "for i , j, k in [(\"ali\", \"data_scientist\", 26), (\"veli\", \"developer\")]:\n",
    "    print(f\"i:{i},j:{j},k:{k}\")\n",
    "    # ikinci verilerde eksiklik oldugundan hata verdi"
   ]
  },
  {
   "cell_type": "code",
   "execution_count": 33,
   "metadata": {},
   "outputs": [
    {
     "ename": "TypeError",
     "evalue": "'bool' object is not iterable",
     "output_type": "error",
     "traceback": [
      "\u001b[1;31m---------------------------------------------------------------------------\u001b[0m",
      "\u001b[1;31mTypeError\u001b[0m                                 Traceback (most recent call last)",
      "\u001b[1;32mc:\\Users\\sueda\\Desktop\\B223\\forloop.ipynb Cell 19\u001b[0m line \u001b[0;36m1\n\u001b[1;32m----> <a href='vscode-notebook-cell:/c%3A/Users/sueda/Desktop/B223/forloop.ipynb#X31sZmlsZQ%3D%3D?line=0'>1</a>\u001b[0m \u001b[39mfor\u001b[39;00m i \u001b[39min\u001b[39;00m \u001b[39mTrue\u001b[39;00m:\n\u001b[0;32m      <a href='vscode-notebook-cell:/c%3A/Users/sueda/Desktop/B223/forloop.ipynb#X31sZmlsZQ%3D%3D?line=1'>2</a>\u001b[0m     \u001b[39mprint\u001b[39m(i)\n\u001b[0;32m      <a href='vscode-notebook-cell:/c%3A/Users/sueda/Desktop/B223/forloop.ipynb#X31sZmlsZQ%3D%3D?line=2'>3</a>\u001b[0m     \u001b[39m# iterable degil hata verir\u001b[39;00m\n",
      "\u001b[1;31mTypeError\u001b[0m: 'bool' object is not iterable"
     ]
    }
   ],
   "source": [
    "for i in True:\n",
    "    print(i)\n",
    "    # iterable degil hata verir"
   ]
  },
  {
   "cell_type": "code",
   "execution_count": null,
   "metadata": {},
   "outputs": [],
   "source": [
    "# calistirmaaa\n",
    "\n",
    "# for dongusunu nasil sonsuza gotururuz\n",
    "\n",
    "liste_1 = [\"sonsuz dongu\"]\n",
    "\n",
    "for i in liste_1:\n",
    "    print(i)\n",
    "    liste_1.append(i)"
   ]
  },
  {
   "cell_type": "code",
   "execution_count": 13,
   "metadata": {},
   "outputs": [
    {
     "name": "stdout",
     "output_type": "stream",
     "text": [
      "Merhaba, Dünya!\n",
      "Merhaba, Dünya!\n",
      "Merhaba, Dünya!\n",
      "Merhaba, Dünya!\n",
      "Merhaba, Dünya!\n"
     ]
    }
   ],
   "source": [
    "# for dongusu ile 5 kere ayni seyi yazdir\n",
    "\n",
    "for i in range(5):\n",
    "    print(\"Merhaba, Dünya!\")"
   ]
  },
  {
   "cell_type": "code",
   "execution_count": 15,
   "metadata": {},
   "outputs": [
    {
     "name": "stdout",
     "output_type": "stream",
     "text": [
      "1 - Merhaba, Dünya!\n",
      "2 - Merhaba, Dünya!\n",
      "3 - Merhaba, Dünya!\n",
      "4 - Merhaba, Dünya!\n"
     ]
    }
   ],
   "source": [
    "# for dongusu ile 50 kere ayni seyi yazdir\n",
    "for i in range(1,5):\n",
    "    print(f\"{i} - Merhaba, Dünya!\")"
   ]
  },
  {
   "cell_type": "code",
   "execution_count": 16,
   "metadata": {},
   "outputs": [
    {
     "name": "stdout",
     "output_type": "stream",
     "text": [
      "1   - Merhaba, Dünya!\n",
      "2   - Merhaba, Dünya!\n",
      "3   - Merhaba, Dünya!\n",
      "4   - Merhaba, Dünya!\n"
     ]
    }
   ],
   "source": [
    "# for dongusu ile 50 kere ayni seyi yazdir\n",
    "for i in range(1,5):\n",
    "    print(f\"{i:<3} - Merhaba, Dünya!\")\n",
    "    # 3 yer ac sola yasla"
   ]
  },
  {
   "cell_type": "code",
   "execution_count": 19,
   "metadata": {},
   "outputs": [
    {
     "name": "stdout",
     "output_type": "stream",
     "text": [
      "3 x 1  = 3\n",
      "3 x 2  = 6\n",
      "3 x 3  = 9\n",
      "3 x 4  = 12\n",
      "3 x 5  = 15\n",
      "3 x 6  = 18\n",
      "3 x 7  = 21\n",
      "3 x 8  = 24\n",
      "3 x 9  = 27\n",
      "3 x 10 = 30\n"
     ]
    }
   ],
   "source": [
    "# carpim tablosu olustur, kullanicidan alarak\n",
    "\n",
    "num = int(input(\"1 ile 9 arasinda bir sayi giriniz,9 dahil\"))\n",
    "\n",
    "if 1 <= num <= 9:\n",
    "\n",
    "    for i in range(1,11):\n",
    "        print(f\"{num} x {i:<2} = {num * i}\")\n",
    "\n",
    "else:\n",
    "        print(\"Yanlis sayi girdiniz\")\n",
    "        # else for icinde kalirsa else kismini da yazdiriyor.Dikkat et\n"
   ]
  },
  {
   "cell_type": "code",
   "execution_count": 20,
   "metadata": {},
   "outputs": [
    {
     "name": "stdout",
     "output_type": "stream",
     "text": [
      "9 x 1  = 9\n",
      "9 x 2  = 18\n",
      "9 x 3  = 27\n",
      "9 x 4  = 36\n",
      "9 x 5  = 45\n",
      "9 x 6  = 54\n",
      "9 x 7  = 63\n",
      "9 x 8  = 72\n",
      "9 x 9  = 81\n",
      "9 x 10 = 90\n"
     ]
    }
   ],
   "source": [
    "# carpim tablosu olustur, kullanicidan alarak\n",
    "# while ile yapiyoruz\n",
    "# sonsuz deneme hakki olan kodlar\n",
    "\n",
    "while True:\n",
    "    \n",
    "    num = int(input(\"1 ile 9 arasinda bir sayi giriniz,9 dahil\"))\n",
    "\n",
    "    if 1 <= num <= 9:\n",
    "\n",
    "        for i in range(1,11):\n",
    "          print(f\"{num} x {i:<2} = {num * i}\")\n",
    "\n",
    "        break # if blogunun icerisinde olmasi gerek (donguyu bitirmek icin koyduk break)\n",
    "    else:\n",
    "        print(\"Yanlis sayi girdiniz\")"
   ]
  },
  {
   "cell_type": "code",
   "execution_count": null,
   "metadata": {},
   "outputs": [],
   "source": [
    "# 3 deneme hakki olan kodlar\n",
    "\n",
    "deneme_sayisi = 0\n",
    "\n",
    "while deneme_sayisi < 3:\n",
    "    deneme_sayisi += 1\n",
    "    \n",
    "    num = int(input(\"1 ile 9 arasinda bir sayi giriniz,9 dahil\"))\n",
    "\n",
    "    if 1 <= num <= 9:\n",
    "\n",
    "        for i in range(1,11):\n",
    "          print(f\"{num} x {i:<2} = {num * i}\")\n",
    "\n",
    "        break # if blogunun icerisinde olmasi gerek (donguyu bitirmek icin koyduk break)\n",
    "    else:\n",
    "        print(\"Yanlis sayi girdiniz\")"
   ]
  },
  {
   "cell_type": "markdown",
   "metadata": {},
   "source": [
    "1 den 50(50 dahil) ye kadar olan sayilarin toplamini bulun"
   ]
  },
  {
   "cell_type": "code",
   "execution_count": 35,
   "metadata": {},
   "outputs": [
    {
     "name": "stdout",
     "output_type": "stream",
     "text": [
      "1'den 50'ye kadar olan sayilarin toplami: 1275\n"
     ]
    }
   ],
   "source": [
    "toplam = 0\n",
    "\n",
    "for i in range(1, 51):\n",
    "    toplam += i\n",
    "\n",
    "print(\"1'den 50'ye kadar olan sayilarin toplami:\", toplam)"
   ]
  },
  {
   "cell_type": "code",
   "execution_count": 36,
   "metadata": {},
   "outputs": [
    {
     "data": {
      "text/plain": [
       "1275"
      ]
     },
     "execution_count": 36,
     "metadata": {},
     "output_type": "execute_result"
    }
   ],
   "source": [
    "sum(range(1,51))\n",
    "# icerisine aldigi numeric elemanlari toplar"
   ]
  },
  {
   "cell_type": "code",
   "execution_count": 37,
   "metadata": {},
   "outputs": [
    {
     "data": {
      "text/plain": [
       "1275.0"
      ]
     },
     "execution_count": 37,
     "metadata": {},
     "output_type": "execute_result"
    }
   ],
   "source": [
    "# ( n * (n + 1)) / 2 matematikteki formulu\n",
    "( 50 * (50 + 1)) / 2"
   ]
  },
  {
   "cell_type": "code",
   "execution_count": 38,
   "metadata": {},
   "outputs": [
    {
     "data": {
      "text/plain": [
       "15"
      ]
     },
     "execution_count": 38,
     "metadata": {},
     "output_type": "execute_result"
    }
   ],
   "source": [
    "sum([1,2,3,4,5])\n",
    "# burda 0 in ustune topluyor"
   ]
  },
  {
   "cell_type": "code",
   "execution_count": 39,
   "metadata": {},
   "outputs": [
    {
     "data": {
      "text/plain": [
       "115"
      ]
     },
     "execution_count": 39,
     "metadata": {},
     "output_type": "execute_result"
    }
   ],
   "source": [
    "sum([1,2,3,4,5],100) \n",
    "# 100 un uzerine topla dedik"
   ]
  },
  {
   "cell_type": "code",
   "execution_count": 41,
   "metadata": {},
   "outputs": [
    {
     "data": {
      "text/plain": [
       "115"
      ]
     },
     "execution_count": 41,
     "metadata": {},
     "output_type": "execute_result"
    }
   ],
   "source": [
    "sum({1,2,3,4,5 },100)  "
   ]
  },
  {
   "cell_type": "code",
   "execution_count": 43,
   "metadata": {},
   "outputs": [
    {
     "name": "stdout",
     "output_type": "stream",
     "text": [
      "Toplam :  650\n"
     ]
    }
   ],
   "source": [
    "# 1 den 50 ye kadar ki cift sayilarin toplami\n",
    "toplam = 0\n",
    "\n",
    "for i in range(2, 51, 2):\n",
    "    toplam += i\n",
    "\n",
    "print(\"Toplam : \" , toplam)"
   ]
  },
  {
   "cell_type": "code",
   "execution_count": null,
   "metadata": {},
   "outputs": [],
   "source": [
    "ciftler_toplami = 0\n",
    "\n",
    "for i in range(1,51):\n",
    "    if i % 2 == 0:\n",
    "        ciftler_toplami += i\n",
    "        print(ciftler_toplami)"
   ]
  },
  {
   "cell_type": "code",
   "execution_count": 44,
   "metadata": {},
   "outputs": [
    {
     "data": {
      "text/plain": [
       "625"
      ]
     },
     "execution_count": 44,
     "metadata": {},
     "output_type": "execute_result"
    }
   ],
   "source": [
    "# tek sayilarin toplami\n",
    "sum(range(1,51,2)) "
   ]
  },
  {
   "cell_type": "markdown",
   "metadata": {},
   "source": [
    "### break, continue"
   ]
  },
  {
   "cell_type": "code",
   "execution_count": 48,
   "metadata": {},
   "outputs": [
    {
     "data": {
      "text/plain": [
       "[1, 2, 3, 4, 5]"
      ]
     },
     "execution_count": 48,
     "metadata": {},
     "output_type": "execute_result"
    }
   ],
   "source": [
    "liste_2 = [1,2,3,4,5]\n",
    "liste_2"
   ]
  },
  {
   "cell_type": "code",
   "execution_count": 50,
   "metadata": {},
   "outputs": [
    {
     "name": "stdout",
     "output_type": "stream",
     "text": [
      "1\n",
      "4\n"
     ]
    }
   ],
   "source": [
    "# sayilara tek tek ulassin 3 un kati varsa dursun\n",
    "\n",
    "for i in liste_2:\n",
    "\n",
    "    if i % 3 == 0:\n",
    "        break\n",
    "    else:\n",
    "        print(i ** 2)"
   ]
  },
  {
   "cell_type": "code",
   "execution_count": 51,
   "metadata": {},
   "outputs": [
    {
     "name": "stdout",
     "output_type": "stream",
     "text": [
      "1\n",
      "4\n",
      "16\n",
      "25\n"
     ]
    }
   ],
   "source": [
    "# 3 u gordugu yerde herhangi bir islem yapmasin dongunun basina donsun\n",
    "for i in liste_2:\n",
    "\n",
    "    if i % 3 == 0:\n",
    "        continue\n",
    "    else:\n",
    "        print(i ** 2)"
   ]
  },
  {
   "cell_type": "markdown",
   "metadata": {},
   "source": [
    "1 den 9 a kadar 9 dahil sayilarin toplamini bulun. 5 ve 5 in katlari haric"
   ]
  },
  {
   "cell_type": "code",
   "execution_count": 53,
   "metadata": {},
   "outputs": [
    {
     "data": {
      "text/plain": [
       "45"
      ]
     },
     "execution_count": 53,
     "metadata": {},
     "output_type": "execute_result"
    }
   ],
   "source": [
    "toplam = 0\n",
    "\n",
    "for i in range(1,10):\n",
    "\n",
    "    toplam += i\n",
    "toplam"
   ]
  },
  {
   "cell_type": "code",
   "execution_count": 54,
   "metadata": {},
   "outputs": [
    {
     "data": {
      "text/plain": [
       "40"
      ]
     },
     "execution_count": 54,
     "metadata": {},
     "output_type": "execute_result"
    }
   ],
   "source": [
    "# 5 dahil olmadan\n",
    "\n",
    "toplam = 0\n",
    "\n",
    "for i in range(1,10):\n",
    "\n",
    "    if i % 5 == 0:\n",
    "        continue  # buna denk gelince dongunun basina donuyor\n",
    "\n",
    "    toplam += i\n",
    "toplam"
   ]
  },
  {
   "cell_type": "code",
   "execution_count": 56,
   "metadata": {},
   "outputs": [
    {
     "name": "stdout",
     "output_type": "stream",
     "text": [
      "650\n"
     ]
    }
   ],
   "source": [
    "toplam = 0\n",
    "\n",
    "for i in range(1,51):\n",
    "\n",
    "    if i % 2 == 1: # tek sayi ise \n",
    "        continue\n",
    "    toplam += i\n",
    "print(toplam)"
   ]
  },
  {
   "cell_type": "code",
   "execution_count": 58,
   "metadata": {},
   "outputs": [
    {
     "name": "stdout",
     "output_type": "stream",
     "text": [
      "Tek Sayilar: [1, 15, 5, 89, 45, 71, 45, 95, 61]\n",
      "Çift Sayilar: [2, 36, 62, 52, 30, 56, 48]\n"
     ]
    }
   ],
   "source": [
    "# tek sayilari ve cift sayilari ayir\n",
    "\n",
    "sayilar_listesi = [1,15,2,36,5,89,45,62,52,71,30,56,45,95,61,48]\n",
    "\n",
    "tek_sayilar = []\n",
    "cift_sayilar = []\n",
    "\n",
    "for i in sayilar_listesi:\n",
    "    if i % 2 == 0:   # if i % 2: bu sekilde yazilirsa her zaman tekleri verir\n",
    "        cift_sayilar.append(i)\n",
    "    else:\n",
    "        tek_sayilar.append(i)\n",
    "\n",
    "print(\"Tek Sayilar:\", tek_sayilar)\n",
    "print(\"Çift Sayilar:\", cift_sayilar)"
   ]
  },
  {
   "cell_type": "markdown",
   "metadata": {},
   "source": [
    "## ODEV"
   ]
  },
  {
   "cell_type": "markdown",
   "metadata": {},
   "source": [
    "##### Bir markete gittiniz. Markette her ürünün bir kod numarası var.\n",
    "##### 1 : Elma 2 : Portakal 3 : Çilek 4 : Yumurta 5 : Havuç 6 : Armut ... vs. şeklinde.\n",
    "##### Kullanıcıya almak istediği ürünü sorunuz ve kod numarası ile seçim yaptırınız. \n",
    "##### Çıkış için \"q\" opsiyonunu sununuz. \n",
    "##### Kullanıcının her ürün seçimi sonrası \" .... elma sepete eklendi\" gibi bir dönüt veriniz. \n",
    "##### Kullanıcı ürün almaya devam ettikçe ürünleri bir listede toplayınız, almaktan vazgeçtiği durumda teşekkür edip, \n",
    "#####        aldığı toplam ürünleri çıktı veren bir kod yazınız.\n",
    "##### Çıktı:\n",
    "##### Teşekkür Ederiz...\n",
    "##### Sepetinizde Bulunan Ürünler: elma, armut, yumurta ... vs."
   ]
  },
  {
   "cell_type": "code",
   "execution_count": null,
   "metadata": {},
   "outputs": [],
   "source": [
    "urunler = {\n",
    "    1: \"Elma\",\n",
    "    2: \"Portakal\",\n",
    "    3: \"Çilek\",\n",
    "    4: \"Yumurta\",\n",
    "    5: \"Havuç\",\n",
    "    6: \"Armut\"\n",
    "}\n",
    "\n",
    "sepet = []\n",
    "\n",
    "while True:\n",
    "\n",
    "    print(\"Ürünler:\")\n",
    "\n",
    "    for kod, urun in urunler.items():\n",
    "        print(f\"{kod}: {urun}\")\n",
    "\n",
    "    secim = input(\"Almak istediğiniz ürünün kodunu girin (Çikiş için 'q'): \")\n",
    "\n",
    "    if secim.lower() == 'q':\n",
    "        break\n",
    "\n",
    "    secim = int(secim)\n",
    "    \n",
    "    if secim in urunler:\n",
    "        sepet.append(urunler[secim])\n",
    "        print(f\"{urunler[secim]} sepete eklendi.\")\n",
    "    else:\n",
    "        print(\"Geçersiz ürün kodu, lütfen tekrar deneyin.\")\n",
    "\n",
    "if sepet:\n",
    "    print(\"Teşekkür ederiz...\")\n",
    "    print(\"Sepetinizde Bulunan Ürünler:\", \", \".join(sepet))\n",
    "else:\n",
    "    print(\"Teşekkür ederiz. Sepetiniz boş.\")"
   ]
  },
  {
   "cell_type": "markdown",
   "metadata": {},
   "source": [
    "Hocanin cozumu"
   ]
  },
  {
   "cell_type": "code",
   "execution_count": 2,
   "metadata": {},
   "outputs": [
    {
     "name": "stdout",
     "output_type": "stream",
     "text": [
      "\n",
      "1 >>>> Elma\n",
      "2 >>>> Portakal\n",
      "3 >>>> Çilek\n",
      "4 >>>> Yumurta\n",
      "5 >>>> Havuç\n",
      "5 >>>> Armut\n",
      "\n",
      "Elma Sepete eklendi.\n",
      "Portakal Sepete eklendi.\n",
      "Çilek Sepete eklendi.\n",
      "Yumurta Sepete eklendi.\n",
      "Havuç Sepete eklendi.\n",
      "Armut Sepete eklendi.\n",
      "Bizi tercih ettiginiz icin tesekkurler.\n",
      "Almis oldugunuz urunler ['Elma', 'Portakal', 'Çilek', 'Yumurta', 'Havuç', 'Armut']\n"
     ]
    }
   ],
   "source": [
    "urunler = {\n",
    "    1: \"Elma\",\n",
    "    2: \"Portakal\",\n",
    "    3: \"Çilek\",\n",
    "    4: \"Yumurta\",\n",
    "    5: \"Havuç\",\n",
    "    6: \"Armut\"\n",
    "}\n",
    "print(\"\"\"\n",
    "1 >>>> Elma\n",
    "2 >>>> Portakal\n",
    "3 >>>> Çilek\n",
    "4 >>>> Yumurta\n",
    "5 >>>> Havuç\n",
    "5 >>>> Armut\n",
    "\"\"\")\n",
    "\n",
    "sepet = []\n",
    "\n",
    "while True:\n",
    "\n",
    "    x = input(\"Almak istediginiz urunun kodunu giriniz.Sepete daha fazla urun eklemek istemediginizde q tusuna basiniz.\").lower()\n",
    "\n",
    "    if x != \"q\":\n",
    "        sepet.append(urunler[int(x)])\n",
    "        print(f\"{sepet[-1]} Sepete eklendi.\")\n",
    "    elif x == \"q\" or x == \"Q\":\n",
    "        print(\"Bizi tercih ettiginiz icin tesekkurler.\")\n",
    "        print(f\"Almis oldugunuz urunler {sepet}\")\n",
    "        break"
   ]
  },
  {
   "cell_type": "code",
   "execution_count": null,
   "metadata": {},
   "outputs": [],
   "source": [
    "urunler = {\n",
    "    1: \"Elma\",\n",
    "    2: \"Portakal\",\n",
    "    3: \"Çilek\",\n",
    "    4: \"Yumurta\",\n",
    "    5: \"Havuç\",\n",
    "    6: \"Armut\"\n",
    "}\n",
    "\n",
    "sepet = []\n",
    "\n",
    "while True:\n",
    "    print(\"Ürünler:\")\n",
    "    for kod, urun in urunler.items():\n",
    "        print(f\"{kod}: {urun}\")\n",
    "    \n",
    "    secim = input(\"Almak istediğiniz ürünün kodunu girin (Çikiş için 'q'): \")\n",
    "    \n",
    "    if secim.lower() == 'q':\n",
    "        break\n",
    "    \n",
    "    try:\n",
    "        secim = int(secim)\n",
    "        if secim in urunler:\n",
    "            urun_adi = urunler[secim]\n",
    "            sepet.append(urun_adi)\n",
    "            print(f\"{urun_adi} sepete eklendi.\")\n",
    "        else:\n",
    "            print(\"Geçersiz ürün kodu, lütfen tekrar deneyin.\")\n",
    "    except ValueError:\n",
    "        print(\"Geçersiz giriş, lütfen bir sayi veya 'q' girin.\")\n",
    "\n",
    "print(\"Teşekkür ederiz...\")\n",
    "if sepet:\n",
    "    print(\"Sepetinizde Bulunan Ürünler:\", \", \".join(sepet))\n",
    "else:\n",
    "    print(\"Sepetiniz boş.\")"
   ]
  },
  {
   "cell_type": "code",
   "execution_count": null,
   "metadata": {},
   "outputs": [],
   "source": [
    "urunler = {\n",
    "    1: \"Elma\",\n",
    "    2: \"Portakal\",\n",
    "    3: \"Çilek\",\n",
    "    4: \"Yumurta\",\n",
    "    5: \"Havuç\",\n",
    "    6: \"Armut\"\n",
    "}\n",
    "\n",
    "sepet = \"\"\n",
    "\n",
    "while True:\n",
    "    print(\"Ürünler:\")\n",
    "    for kod, urun in urunler.items():\n",
    "        print(f\"{kod}: {urun}\")\n",
    "    \n",
    "    secim = input(\"Almak istediğiniz ürünün kodunu girin (Çıkış için 'q'): \")\n",
    "    \n",
    "    if secim.lower() == 'q':\n",
    "        break\n",
    "    \n",
    "    try:\n",
    "        secim = int(secim)\n",
    "        if secim in urunler:\n",
    "            urun_adi = urunler[secim]\n",
    "            sepet += urun_adi + \", \"\n",
    "            print(f\"{urun_adi} sepete eklendi.\")\n",
    "        else:\n",
    "            print(\"Geçersiz ürün kodu, lütfen tekrar deneyin.\")\n",
    "    except ValueError:\n",
    "        print(\"Geçersiz giriş, lütfen bir sayı veya 'q' girin.\")\n",
    "\n",
    "if sepet:\n",
    "    sepet = sepet[:-2]  # Son iki karakteri (\", \") kaldır\n",
    "    print(\"Teşekkür ederiz...\")\n",
    "    print(\"Sepetinizde Bulunan Ürünler:\", sepet)\n",
    "else:\n",
    "    print(\"Teşekkür ederiz. Sepetiniz boş.\")\n"
   ]
  },
  {
   "cell_type": "code",
   "execution_count": null,
   "metadata": {},
   "outputs": [],
   "source": [
    "urunler = {\n",
    "    1: \"Elma\",\n",
    "    2: \"Portakal\",\n",
    "    3: \"Çilek\",\n",
    "    4: \"Yumurta\",\n",
    "    5: \"Havuç\",\n",
    "    6: \"Armut\"\n",
    "}\n",
    "\n",
    "sepet = []\n",
    "\n",
    "while True:\n",
    "    print(\"Ürünler:\")\n",
    "    for kod, urun in urunler.items():\n",
    "        print(f\"{kod}: {urun}\")\n",
    "\n",
    "    secim = input(\"Almak istediğiniz ürünün kodunu girin (Çıkış için 'q'): \")\n",
    "\n",
    "    if secim.lower() == 'q':\n",
    "        break\n",
    "\n",
    "    try:\n",
    "        secim = int(secim)\n",
    "        if secim in urunler:\n",
    "            sepet.append(urunler[secim])\n",
    "            print(f\"{urunler[secim]} sepete eklendi.\")\n",
    "        else:\n",
    "            print(\"Geçersiz ürün kodu, lütfen tekrar deneyin.\")\n",
    "    except ValueError:\n",
    "        print(\"Geçersiz giriş, lütfen bir sayı veya 'q' girin.\")\n",
    "\n",
    "if sepet:\n",
    "    print(\"Teşekkür ederiz...\")\n",
    "    print(\"Sepetinizde Bulunan Ürünler:\", \", \".join(sepet))\n",
    "else:\n",
    "    print(\"Teşekkür ederiz. Sepetiniz boş.\")\n"
   ]
  }
 ],
 "metadata": {
  "kernelspec": {
   "display_name": "Python 3",
   "language": "python",
   "name": "python3"
  },
  "language_info": {
   "codemirror_mode": {
    "name": "ipython",
    "version": 3
   },
   "file_extension": ".py",
   "mimetype": "text/x-python",
   "name": "python",
   "nbconvert_exporter": "python",
   "pygments_lexer": "ipython3",
   "version": "3.11.5"
  }
 },
 "nbformat": 4,
 "nbformat_minor": 2
}
