{
 "cells": [
  {
   "cell_type": "markdown",
   "metadata": {},
   "source": [
    "## LOOPS"
   ]
  },
  {
   "cell_type": "markdown",
   "metadata": {},
   "source": [
    "### while"
   ]
  },
  {
   "cell_type": "code",
   "execution_count": null,
   "metadata": {},
   "outputs": [],
   "source": [
    "# sonsuz dongu, calistirma\n",
    "# while 10 > 5:\n",
    "#  print(\"bu dongu sonsuz kadar calisir\")"
   ]
  },
  {
   "cell_type": "code",
   "execution_count": 1,
   "metadata": {},
   "outputs": [
    {
     "name": "stdout",
     "output_type": "stream",
     "text": [
      "Bu döngü koşul sağladikça çalişir ve durur.\n",
      "Bu döngü koşul sağladikça çalişir ve durur.\n",
      "Bu döngü koşul sağladikça çalişir ve durur.\n",
      "Bu döngü koşul sağladikça çalişir ve durur.\n",
      "Bu döngü koşul sağladikça çalişir ve durur.\n"
     ]
    }
   ],
   "source": [
    "x = 5\n",
    "while 10 > x:\n",
    "    print(\"Bu döngü koşul sağladikça çalişir ve durur.\")\n",
    "    x += 1  # x = x + 1"
   ]
  },
  {
   "cell_type": "code",
   "execution_count": 2,
   "metadata": {},
   "outputs": [
    {
     "name": "stdout",
     "output_type": "stream",
     "text": [
      "1\n",
      "2\n",
      "3\n",
      "4\n",
      "5\n",
      "6\n",
      "7\n",
      "8\n",
      "9\n"
     ]
    }
   ],
   "source": [
    "x = 1\n",
    "while x < 10:\n",
    "    print(x)\n",
    "    x += 1\n",
    "    \n"
   ]
  },
  {
   "cell_type": "code",
   "execution_count": 3,
   "metadata": {},
   "outputs": [
    {
     "data": {
      "text/plain": [
       "10"
      ]
     },
     "execution_count": 3,
     "metadata": {},
     "output_type": "execute_result"
    }
   ],
   "source": [
    "x"
   ]
  },
  {
   "cell_type": "code",
   "execution_count": null,
   "metadata": {},
   "outputs": [],
   "source": [
    "# calistirma sonsuz dongu\n",
    "# x = 1\n",
    "\n",
    "# while x < 10:\n",
    "    # print(x)\n",
    "\n",
    "\n",
    "\n",
    "\n",
    "# x += 1 # islem while indent i icerisinde degil"
   ]
  },
  {
   "cell_type": "code",
   "execution_count": 4,
   "metadata": {},
   "outputs": [],
   "source": [
    "while False:\n",
    "    print(\"sanki calismayacak\")"
   ]
  },
  {
   "cell_type": "code",
   "execution_count": 5,
   "metadata": {},
   "outputs": [],
   "source": [
    "while 0:\n",
    "    print(\"bu da sanki calismayacak\")"
   ]
  },
  {
   "cell_type": "code",
   "execution_count": null,
   "metadata": {},
   "outputs": [],
   "source": [
    "# Sonsuz dongu, calistirma\n",
    "# x = 1\n",
    "# while True:\n",
    "    # print(x, \"sonsuza gider\")\n",
    "#  x += 1"
   ]
  },
  {
   "cell_type": "code",
   "execution_count": 7,
   "metadata": {},
   "outputs": [
    {
     "name": "stdout",
     "output_type": "stream",
     "text": [
      "while döngüsü condition false olana kadar çalişir\n"
     ]
    }
   ],
   "source": [
    "y = True\n",
    "while y:\n",
    "    print(\"while döngüsü condition false olana kadar çalişir\")\n",
    "    y = False\n",
    "# bir kere çalıştı false'u gördü ve durdu"
   ]
  },
  {
   "cell_type": "code",
   "execution_count": null,
   "metadata": {},
   "outputs": [],
   "source": [
    "# sonsuz döngü ÇALIŞTIRMA\n",
    "y = True\n",
    "while y:\n",
    "    print(\"while döngüsü condition false olana kadar çalışr\")\n",
    "\n",
    "y = False\n",
    "# bir kere çalıştı false'u gördü ve durdu\n",
    "# false' döngü dışına yazdığında sonsuza kadar çalışır."
   ]
  },
  {
   "cell_type": "code",
   "execution_count": 8,
   "metadata": {},
   "outputs": [
    {
     "name": "stdout",
     "output_type": "stream",
     "text": [
      "1\n",
      "2\n",
      "3\n",
      "4\n",
      "5\n",
      "dongu bitti\n"
     ]
    }
   ],
   "source": [
    "x = 1\n",
    "while x < 6:\n",
    "    print(x)\n",
    "    x += 1\n",
    "\n",
    "print(\"dongu bitti\") \n",
    "# while altına yazınca sadece sonda bitti der"
   ]
  },
  {
   "cell_type": "code",
   "execution_count": 9,
   "metadata": {},
   "outputs": [
    {
     "name": "stdout",
     "output_type": "stream",
     "text": [
      "1\n",
      "dongu bitti\n",
      "2\n",
      "dongu bitti\n",
      "3\n",
      "dongu bitti\n",
      "4\n",
      "dongu bitti\n",
      "5\n",
      "dongu bitti\n"
     ]
    }
   ],
   "source": [
    "x = 1\n",
    "while x < 6:\n",
    "    print(x)\n",
    "    x += 1\n",
    "\n",
    "    print(\"dongu bitti\") \n",
    "    # while içine yazdığın için her rakam sonrası bitti der."
   ]
  },
  {
   "cell_type": "code",
   "execution_count": 10,
   "metadata": {},
   "outputs": [
    {
     "name": "stdout",
     "output_type": "stream",
     "text": [
      "1\n",
      "4\n",
      "9\n",
      "16\n",
      "25\n"
     ]
    }
   ],
   "source": [
    "x = 1\n",
    "\n",
    "while x < 6:\n",
    "    print(x ** 2)\n",
    "    x += 1"
   ]
  },
  {
   "cell_type": "code",
   "execution_count": 11,
   "metadata": {},
   "outputs": [
    {
     "name": "stdout",
     "output_type": "stream",
     "text": [
      "yanliş sayi.\n"
     ]
    }
   ],
   "source": [
    "# kullanıcıdan sayı isteyin sayı 50den küçük ise döngü bitsin değilse devam ertsin\n",
    "\n",
    "x = int(input(\"Bir sayi girin. 1 ile 100 arasinda olsun\"))\n",
    "\n",
    "while x > 50:\n",
    "    x = int(input(\"Bir sayi girin\"))\n",
    "    print(\"yanliş sayi.\")"
   ]
  },
  {
   "cell_type": "code",
   "execution_count": 1,
   "metadata": {},
   "outputs": [
    {
     "name": "stdout",
     "output_type": "stream",
     "text": [
      "yanliş şifre. tekrar deneyin\n",
      "işleme alindiniz\n"
     ]
    }
   ],
   "source": [
    "# bankamatik şifre girme işleminin kodlarını yazın. 3 hatalı girme hakkınız var.\n",
    "\n",
    "kayitli_sifre = \"1234\"\n",
    "\n",
    "y = True\n",
    "\n",
    "while y:\n",
    "    kullanici_girisi = input(\"lütfen şifrenizi girin\")\n",
    "\n",
    "    if kayitli_sifre == kullanici_girisi:\n",
    "        print(\"işleme alindiniz\")\n",
    "        y = False\n",
    "    else:\n",
    "        print(\"yanliş şifre. tekrar deneyin\")"
   ]
  },
  {
   "cell_type": "code",
   "execution_count": 3,
   "metadata": {},
   "outputs": [
    {
     "name": "stdout",
     "output_type": "stream",
     "text": [
      "yanliş şifre. tekrar deneyin\n",
      "işleme alindiniz\n"
     ]
    }
   ],
   "source": [
    "# bankamatik şifre girme işleminin kodlarını yazın. 3 hatalı girme hakkınız var.\n",
    "\n",
    "kayitli_sifre = \"1234\"\n",
    "\n",
    "count = 0 \n",
    "\n",
    "y = True\n",
    "\n",
    "while y:\n",
    "    count += 1\n",
    "    kullanici_girisi = input(\"lütfen şifrenizi girin\")\n",
    "\n",
    "    if kayitli_sifre == kullanici_girisi:\n",
    "        print(\"işleme alindiniz\")\n",
    "        y = False\n",
    "    else:\n",
    "        print(\"yanliş şifre. tekrar deneyin\")\n",
    "\n",
    "        if count == 3: # belli bir sayiya bagliyoruz,sonsuz dongu olusmasin,sistemden cikilabilsin diye\n",
    "            y = False\n",
    "            print(\"Hakkiniz doldu. Kartiniz bloke oldu.\")"
   ]
  },
  {
   "cell_type": "code",
   "execution_count": 2,
   "metadata": {},
   "outputs": [
    {
     "name": "stdout",
     "output_type": "stream",
     "text": [
      "işleme alindiniz\n"
     ]
    }
   ],
   "source": [
    "# bankamatik şifre girme işleminin kodlarını yazın. 3 hatalı girme hakkınız var.\n",
    "\n",
    "kayitli_sifre = \"1234\"\n",
    "\n",
    "count = 0 \n",
    "\n",
    "y = True\n",
    "\n",
    "while y:\n",
    "    count += 1\n",
    "    kullanici_girisi = input(\"lütfen şifrenizi girin\")\n",
    "\n",
    "    if kayitli_sifre == kullanici_girisi:\n",
    "        print(\"işleme alindiniz\")\n",
    "        y = False\n",
    "        break\n",
    "\n",
    "        if count == 3: # belli bir sayiya bagliyoruz,sonsuz dongu olusmasin,sistemden cikilabilsin diye\n",
    "            y = False\n",
    "            print(\"Hakkiniz doldu. Kartiniz bloke oldu.\")\n",
    "        else:\n",
    "            print(\"yanliş şifre. tekrar deneyin\")"
   ]
  },
  {
   "cell_type": "code",
   "execution_count": 4,
   "metadata": {},
   "outputs": [
    {
     "name": "stdout",
     "output_type": "stream",
     "text": [
      "1\n",
      "9\n",
      "36\n",
      "64\n",
      "121\n",
      "225\n"
     ]
    }
   ],
   "source": [
    "# listenin elemanlarının karesini döndüren kodu yazdırın. while ile çöz\n",
    "\n",
    "sayilar_listesi = [1,3,6,8,11,15]\n",
    "# liste altı kere dönmeli çünkü altı sayı var listede\n",
    "\n",
    "x = 0\n",
    "\n",
    "while x < 6: # listedeki eleman sayısını bildiğimiz için 6 yazdık.\n",
    "\n",
    "    print(sayilar_listesi[x] ** 2)\n",
    "\n",
    "    x += 1"
   ]
  },
  {
   "cell_type": "code",
   "execution_count": 5,
   "metadata": {},
   "outputs": [
    {
     "name": "stdout",
     "output_type": "stream",
     "text": [
      "1\n",
      "9\n",
      "36\n",
      "64\n",
      "121\n",
      "225\n"
     ]
    }
   ],
   "source": [
    "# listenin elemanlarının karesini döndüren kodu yazdırın. while ile çöz\n",
    "\n",
    "sayilar_listesi = [1,3,6,8,11,15]\n",
    "\n",
    "x = 0\n",
    "\n",
    "while x < len(sayilar_listesi): \n",
    "\n",
    "    print(sayilar_listesi[x] ** 2)\n",
    "\n",
    "    x += 1"
   ]
  },
  {
   "cell_type": "code",
   "execution_count": 8,
   "metadata": {},
   "outputs": [
    {
     "name": "stdout",
     "output_type": "stream",
     "text": [
      "[1, 9, 36, 64, 121, 225]\n"
     ]
    }
   ],
   "source": [
    "# listenin elemanlarının karesini liste icinde döndüren kodu yazdırın. while ile çöz\n",
    "\n",
    "sayilar_listesi = [1,3,6,8,11,15]\n",
    "\n",
    "x = 0\n",
    "result_list = []\n",
    "while x < len(sayilar_listesi): # listedeki eleman sayısını bilmezsek \"len\" kullan.\n",
    "\n",
    "    result_list.append(sayilar_listesi[x] ** 2)\n",
    "\n",
    "    x += 1\n",
    "print(result_list) # bunu yazmazsak sadece çalıştrır output olmaz."
   ]
  }
 ],
 "metadata": {
  "kernelspec": {
   "display_name": "Python 3",
   "language": "python",
   "name": "python3"
  },
  "language_info": {
   "codemirror_mode": {
    "name": "ipython",
    "version": 3
   },
   "file_extension": ".py",
   "mimetype": "text/x-python",
   "name": "python",
   "nbconvert_exporter": "python",
   "pygments_lexer": "ipython3",
   "version": "3.11.5"
  }
 },
 "nbformat": 4,
 "nbformat_minor": 2
}
